{
 "cells": [
  {
   "cell_type": "markdown",
   "id": "89ffda57",
   "metadata": {},
   "source": [
    "1. Write a function called \"add_numbers\" that takes two integers as input and returns their sum.\n",
    "\n",
    "2. Write a function called \"multiply_numbers\" that takes two integers as input and returns their product.\n",
    "\n",
    "3. Write a function called \"calculate_average\" that takes a list of numbers as input and returns the average of thosenumbers.\n",
    "\n",
    "4. Write a function called \"is_even\" that takes an integer as input and returns True if the number is even, and False otherwise.\n",
    "\n",
    "5. Write a function called \"reverse_string\" that takes a string as input and returns the reverse of that string.\n",
    "\n",
    "6. Write a function called \"count_vowels\" that takes a string as input and returns the number of vowels (a, e, i, o, u) in that string.\n",
    "\n",
    "7. Write a function called \"find_max\" that takes a list of numbers as input and returns the maximum value in that list.\n",
    "\n",
    "8. Write a function called \"find_min\" that takes a list of numbers as input and returns the minimum value in that list."
   ]
  },
  {
   "cell_type": "markdown",
   "id": "aa975f52",
   "metadata": {},
   "source": [
    "1. Write a function called \"add_numbers\" that takes two integers as input and returns their sum."
   ]
  },
  {
   "cell_type": "code",
   "execution_count": 3,
   "id": "8abd7647",
   "metadata": {},
   "outputs": [],
   "source": [
    "def add_numbers(a,b):\n",
    "    print(a+b)"
   ]
  },
  {
   "cell_type": "code",
   "execution_count": 4,
   "id": "c74a5841",
   "metadata": {},
   "outputs": [
    {
     "name": "stdout",
     "output_type": "stream",
     "text": [
      "12\n"
     ]
    }
   ],
   "source": [
    "add_numbers(5,7)"
   ]
  },
  {
   "cell_type": "markdown",
   "id": "4a1934b0",
   "metadata": {},
   "source": [
    "2. Write a function called \"multiply_numbers\" that takes two integers as input and returns their product."
   ]
  },
  {
   "cell_type": "code",
   "execution_count": 6,
   "id": "9018dea3",
   "metadata": {},
   "outputs": [],
   "source": [
    "def multiply_numbers(a,b):\n",
    "    print(a*b)"
   ]
  },
  {
   "cell_type": "code",
   "execution_count": 7,
   "id": "d548b129",
   "metadata": {},
   "outputs": [
    {
     "name": "stdout",
     "output_type": "stream",
     "text": [
      "54\n"
     ]
    }
   ],
   "source": [
    "multiply_numbers(6,9)"
   ]
  },
  {
   "cell_type": "markdown",
   "id": "854359f9",
   "metadata": {},
   "source": [
    "3. Write a function called \"calculate_average\" that takes a list of numbers as input and returns the average of thosenumbers."
   ]
  },
  {
   "cell_type": "code",
   "execution_count": 17,
   "id": "51196cb6",
   "metadata": {},
   "outputs": [],
   "source": [
    "def calculate_average(x,y,z,a):\n",
    "    print((x+y+z+a)/4)"
   ]
  },
  {
   "cell_type": "code",
   "execution_count": 18,
   "id": "3929315b",
   "metadata": {},
   "outputs": [
    {
     "name": "stdout",
     "output_type": "stream",
     "text": [
      "17.75\n"
     ]
    }
   ],
   "source": [
    "calculate_average(16,20,25,10)"
   ]
  },
  {
   "cell_type": "markdown",
   "id": "ad55f8f8",
   "metadata": {},
   "source": [
    "4. Write a function called \"is_even\" that takes an integer as input and returns True if the number is even, and False otherwise."
   ]
  },
  {
   "cell_type": "code",
   "execution_count": 12,
   "id": "295cc151",
   "metadata": {},
   "outputs": [],
   "source": [
    "def is_even(x):\n",
    "    if x%2==0:\n",
    "        print(\"true\")\n",
    "    else:\n",
    "        print(\"false\")"
   ]
  },
  {
   "cell_type": "code",
   "execution_count": 15,
   "id": "a5e84401",
   "metadata": {},
   "outputs": [
    {
     "name": "stdout",
     "output_type": "stream",
     "text": [
      "true\n"
     ]
    }
   ],
   "source": [
    "is_even(6)"
   ]
  },
  {
   "cell_type": "markdown",
   "id": "228adb9a",
   "metadata": {},
   "source": [
    "5. Write a function called \"reverse_string\" that takes a string as input and returns the reverse of that string."
   ]
  },
  {
   "cell_type": "code",
   "execution_count": 20,
   "id": "610b5b0b",
   "metadata": {},
   "outputs": [],
   "source": [
    "def reverse_string(a):\n",
    "    print(a[::-1])"
   ]
  },
  {
   "cell_type": "code",
   "execution_count": 22,
   "id": "8009ed11",
   "metadata": {},
   "outputs": [
    {
     "name": "stdout",
     "output_type": "stream",
     "text": [
      "salivdihc\n"
     ]
    }
   ],
   "source": [
    "reverse_string(\"chidvilas\")"
   ]
  },
  {
   "cell_type": "markdown",
   "id": "ad6888dd",
   "metadata": {},
   "source": [
    "6. Write a function called \"count_vowels\" that takes a string as input and returns the number of vowels (a, e, i, o, u) in that string."
   ]
  },
  {
   "cell_type": "code",
   "execution_count": 25,
   "id": "0e389bb0",
   "metadata": {},
   "outputs": [
    {
     "name": "stdout",
     "output_type": "stream",
     "text": [
      "enter a string:  chidvilas\n"
     ]
    }
   ],
   "source": [
    "text=input(\"enter a string:  \")\n",
    "vowels=['a','e','i','o','u']\n",
    "count=[]\n",
    "def count_vowels(text):\n",
    "    for i in text:\n",
    "        if i in vowels:\n",
    "            count.append(i)\n",
    "    print(\"vowels are:  \",len(count))\n",
    "    \n"
   ]
  },
  {
   "cell_type": "code",
   "execution_count": 26,
   "id": "2fb90f44",
   "metadata": {},
   "outputs": [
    {
     "name": "stdout",
     "output_type": "stream",
     "text": [
      "vowels are:   3\n"
     ]
    }
   ],
   "source": [
    "count_vowels(text)"
   ]
  },
  {
   "cell_type": "markdown",
   "id": "1a0beefe",
   "metadata": {},
   "source": [
    "7. Write a function called \"find_max\" that takes a list of numbers as input and returns the maximum value in that list."
   ]
  },
  {
   "cell_type": "code",
   "execution_count": 29,
   "id": "dc78897f",
   "metadata": {},
   "outputs": [],
   "source": [
    "def find_max(a,b,c,d,e,f):\n",
    "    print(max(a,b,c,d,e,f))"
   ]
  },
  {
   "cell_type": "code",
   "execution_count": 30,
   "id": "fb6ef11a",
   "metadata": {},
   "outputs": [
    {
     "name": "stdout",
     "output_type": "stream",
     "text": [
      "88\n"
     ]
    }
   ],
   "source": [
    "find_max(15,33,77,75,88,63)"
   ]
  },
  {
   "cell_type": "markdown",
   "id": "5f8f7b1f",
   "metadata": {},
   "source": [
    "8. Write a function called \"find_min\" that takes a list of numbers as input and returns the minimum value in that list."
   ]
  },
  {
   "cell_type": "code",
   "execution_count": 31,
   "id": "1d877553",
   "metadata": {},
   "outputs": [],
   "source": [
    "def find_min(a,b,c,d,e,f):\n",
    "    print(min(a,b,c,d,e,f))"
   ]
  },
  {
   "cell_type": "code",
   "execution_count": 32,
   "id": "c5ad738e",
   "metadata": {},
   "outputs": [
    {
     "name": "stdout",
     "output_type": "stream",
     "text": [
      "23\n"
     ]
    }
   ],
   "source": [
    "find_min(23,89,100,55,34,67)"
   ]
  },
  {
   "cell_type": "code",
   "execution_count": null,
   "id": "048934d3",
   "metadata": {},
   "outputs": [],
   "source": []
  }
 ],
 "metadata": {
  "kernelspec": {
   "display_name": "Python 3 (ipykernel)",
   "language": "python",
   "name": "python3"
  },
  "language_info": {
   "codemirror_mode": {
    "name": "ipython",
    "version": 3
   },
   "file_extension": ".py",
   "mimetype": "text/x-python",
   "name": "python",
   "nbconvert_exporter": "python",
   "pygments_lexer": "ipython3",
   "version": "3.11.4"
  }
 },
 "nbformat": 4,
 "nbformat_minor": 5
}
