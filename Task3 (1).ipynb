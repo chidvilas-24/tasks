{
 "cells": [
  {
   "cell_type": "markdown",
   "id": "110812e8",
   "metadata": {},
   "source": [
    "Assignment Tasks on String Escape Characters, Indexing, and Slicing:\n",
    "\n",
    "**String Escape Characters:**\n",
    "\n",
    "Task 1:\n",
    "1. Create a string containing a sentence that includes both single and double quotes.\n",
    "2. Use escape characters to include quotes within the string.\n",
    "3. Print the modified string.\n",
    "\n",
    "Task 2:\n",
    "1. Declare a string with a backslash \\ character in it.\n",
    "2. Demonstrate the use of the escape character to print the backslash itself.\n",
    "3. Print the resulting string.\n",
    "\n",
    "Task 3:\n",
    "1. Construct a string containing newline and tab escape sequences.\n",
    "2. Print the string to display the formatted output.\n",
    "\n",
    "**Indexing and Slicing:**\n",
    "\n",
    "Task 4:\n",
    "1.  sentence = \"I want to become Data Scientist\".\n",
    "2. Access and print the `first character` of the string using indexing.\n",
    "3. Access and print the `last character` of the string using negative indexing.\n",
    "\n",
    "Task 5:\n",
    "1. What are `possible ways` yo extract `Scientist`(use forward and reverse)\n",
    "2. Use slicing to extract and print the `first word` from the string.\n",
    "3. Use slicing to extract and print the `last three` characters of the string.\n",
    "\n",
    "Task 6:\n",
    "1. name = \"Innomatics Reserach Labs\"\n",
    "2. Apply slicing to extract a substring that includes the `second to fifth` characters.\n",
    "3. `Print` the extracted substring.\n",
    "\n",
    "Task 7:\n",
    "1. string = \"Python@1234\"\n",
    "2. Use slicing to extract every second character from the string.\n",
    "3. Print the resulting sliced string.\n",
    "\n",
    "Task 8:\n",
    "1.  print last five letters.\n",
    "2. Utilize slicing to reverse the word order in the string.\n",
    "3. Print the string with the words in the reversed order.\n",
    "\n",
    "Task 9:\n",
    "1. a = \"123123123\"\n",
    "2. Apply slicing to extract only the numeric characters at odd positions.\n",
    "3. Print the sliced result.\n",
    "\n",
    "Remember to include explanations or comments for each task's code to ensure clarity. Additionally, encourage students to experiment further with different escape characters and slicing techniques beyond the provided tasks to deepen their understanding."
   ]
  },
  {
   "cell_type": "markdown",
   "id": "cb635d10",
   "metadata": {},
   "source": [
    "Task 1:\n",
    "1. Create a string containing a sentence that includes both single and double quotes.\n",
    "2. Use escape characters to include quotes within the string.\n",
    "3. Print the modified string.\n"
   ]
  },
  {
   "cell_type": "code",
   "execution_count": 3,
   "id": "4f2de0c4",
   "metadata": {},
   "outputs": [
    {
     "name": "stdout",
     "output_type": "stream",
     "text": [
      "iam \"chidvilas\" and i want to be a 'data scientist'\n"
     ]
    }
   ],
   "source": [
    "string=\"iam \\\"chidvilas\\\" and i want to be a \\'data scientist'\"\n",
    "print(string)                                                    #in this task i used \"\\\" as an escape character"
   ]
  },
  {
   "cell_type": "markdown",
   "id": "522b9ef7",
   "metadata": {},
   "source": [
    "Task 2:\n",
    "1. Declare a string with a backslash \\ character in it.\n",
    "2. Demonstrate the use of the escape character to print the backslash itself.\n",
    "3. Print the resulting string."
   ]
  },
  {
   "cell_type": "markdown",
   "id": "abbe7110",
   "metadata": {},
   "source": [
    "\"C:\\Users\\chidv\\OneDrive\\Desktop\\JDM\"         # here i copied a path of a folder in my desktop which has many backslashes(\\) in it "
   ]
  },
  {
   "cell_type": "code",
   "execution_count": 5,
   "id": "15ed639c",
   "metadata": {},
   "outputs": [
    {
     "name": "stdout",
     "output_type": "stream",
     "text": [
      "C:\\Users\\chidv\\OneDrive\\Desktop\\JDM\n"
     ]
    }
   ],
   "source": [
    "string=\"C:\\\\Users\\\\chidv\\\\OneDrive\\\\Desktop\\\\JDM\"\n",
    "print(string)                     #to overcome this challange i used another backslash \"\\\" so that it can be printed as it is   "
   ]
  },
  {
   "cell_type": "markdown",
   "id": "7dcc4974",
   "metadata": {},
   "source": [
    "2. to use the string which has a backslash in it we have to escape it with another backslash\n",
    "-  there is another way to demonstrate a backslash in a string i.e, we have to use r in front of the string so that we can print the raw data itself"
   ]
  },
  {
   "cell_type": "code",
   "execution_count": 7,
   "id": "0e83d2a7",
   "metadata": {},
   "outputs": [
    {
     "name": "stdout",
     "output_type": "stream",
     "text": [
      "C:\\Users\\chidv\\OneDrive\\Desktop\\JDM\n"
     ]
    }
   ],
   "source": [
    "string=(r\"C:\\Users\\chidv\\OneDrive\\Desktop\\JDM\")\n",
    "print(string)"
   ]
  },
  {
   "cell_type": "markdown",
   "id": "1b84490d",
   "metadata": {},
   "source": [
    "Task 3:\n",
    "1. Construct a string containing newline and tab escape sequences.\n",
    "2. Print the string to display the formatted output."
   ]
  },
  {
   "cell_type": "code",
   "execution_count": 29,
   "id": "61663bdd",
   "metadata": {},
   "outputs": [],
   "source": [
    "string=(\"we have a company called \\t \\\"natural dairy\\\" \\n it is located in \\t'navipet'\\n which is near \\t'nizamabad'\")"
   ]
  },
  {
   "cell_type": "code",
   "execution_count": 31,
   "id": "8dcdd9d6",
   "metadata": {},
   "outputs": [
    {
     "name": "stdout",
     "output_type": "stream",
     "text": [
      "we have a company called \t\"natural dairy\"\n",
      " it is located in \t'navipet'\n",
      " which is near \t'nizamabad'\n"
     ]
    }
   ],
   "source": [
    "print(string)                      #\\t for 4 spaces and \\n used to print the data in next line "
   ]
  },
  {
   "cell_type": "markdown",
   "id": "75ed9116",
   "metadata": {},
   "source": [
    "Task 4:\n",
    "1.  sentence = \"I want to become Data Scientist\".\n",
    "2. Access and print the `first character` of the string using indexing.\n",
    "3. Access and print the `last character` of the string using negative indexing.\n"
   ]
  },
  {
   "cell_type": "code",
   "execution_count": 32,
   "id": "78291e69",
   "metadata": {},
   "outputs": [],
   "source": [
    "string=\"I want to become Data Scientist\""
   ]
  },
  {
   "cell_type": "code",
   "execution_count": 35,
   "id": "99ca5046",
   "metadata": {},
   "outputs": [
    {
     "data": {
      "text/plain": [
       "'I'"
      ]
     },
     "execution_count": 35,
     "metadata": {},
     "output_type": "execute_result"
    }
   ],
   "source": [
    "string[0]                     #syntax: variable_name[index number]"
   ]
  },
  {
   "cell_type": "code",
   "execution_count": 34,
   "id": "f76623bd",
   "metadata": {},
   "outputs": [
    {
     "data": {
      "text/plain": [
       "'t'"
      ]
     },
     "execution_count": 34,
     "metadata": {},
     "output_type": "execute_result"
    }
   ],
   "source": [
    "string[-1]"
   ]
  },
  {
   "cell_type": "markdown",
   "id": "8c7c9e90",
   "metadata": {},
   "source": [
    "Task 5:\n",
    "1. What are `possible ways` yo extract `Scientist`(use forward and reverse)\n",
    "2. Use slicing to extract and print the `first word` from the string.\n",
    "3. Use slicing to extract and print the `last three` characters of the string."
   ]
  },
  {
   "cell_type": "code",
   "execution_count": 8,
   "id": "b360d814",
   "metadata": {},
   "outputs": [],
   "source": [
    "string=\"scientist \"    #there are three ways to extract the string scientist"
   ]
  },
  {
   "cell_type": "code",
   "execution_count": 49,
   "id": "dcc8d43f",
   "metadata": {},
   "outputs": [
    {
     "data": {
      "text/plain": [
       "'scientist '"
      ]
     },
     "execution_count": 49,
     "metadata": {},
     "output_type": "execute_result"
    }
   ],
   "source": [
    "string[::]            #here i didn't given any index numbers bcoz if we didn't give any start (index)number it start from first\n",
    "                      #if we didn't given any stop (index)number it runs till last\n",
    "                      # if we didn't provide any step value, by default it takes it as-1"
   ]
  },
  {
   "cell_type": "code",
   "execution_count": 38,
   "id": "53b1a3ec",
   "metadata": {},
   "outputs": [
    {
     "data": {
      "text/plain": [
       "'scientist'"
      ]
     },
     "execution_count": 38,
     "metadata": {},
     "output_type": "execute_result"
    }
   ],
   "source": [
    "string[0:9:1]"
   ]
  },
  {
   "cell_type": "code",
   "execution_count": 3,
   "id": "689c777b",
   "metadata": {},
   "outputs": [
    {
     "data": {
      "text/plain": [
       "'cientist '"
      ]
     },
     "execution_count": 3,
     "metadata": {},
     "output_type": "execute_result"
    }
   ],
   "source": [
    "string[-9::1]"
   ]
  },
  {
   "cell_type": "code",
   "execution_count": 4,
   "id": "518d06bd",
   "metadata": {},
   "outputs": [
    {
     "data": {
      "text/plain": [
       "'s'"
      ]
     },
     "execution_count": 4,
     "metadata": {},
     "output_type": "execute_result"
    }
   ],
   "source": [
    "string[:1:1]"
   ]
  },
  {
   "cell_type": "code",
   "execution_count": 11,
   "id": "4bae059b",
   "metadata": {},
   "outputs": [
    {
     "data": {
      "text/plain": [
       "'ist '"
      ]
     },
     "execution_count": 11,
     "metadata": {},
     "output_type": "execute_result"
    }
   ],
   "source": [
    "string[6::]"
   ]
  },
  {
   "cell_type": "markdown",
   "id": "988a8910",
   "metadata": {},
   "source": [
    "Task 6:\n",
    "1. name = \"Innomatics Reserach Labs\"\n",
    "2. Apply slicing to extract a substring that includes the `second to fifth` characters.\n",
    "3. `Print` the extracted substring."
   ]
  },
  {
   "cell_type": "code",
   "execution_count": 50,
   "id": "a7003351",
   "metadata": {},
   "outputs": [],
   "source": [
    "name=\"innomatics research labs\"\n"
   ]
  },
  {
   "cell_type": "code",
   "execution_count": 51,
   "id": "0bdebcad",
   "metadata": {},
   "outputs": [
    {
     "data": {
      "text/plain": [
       "'noma'"
      ]
     },
     "execution_count": 51,
     "metadata": {},
     "output_type": "execute_result"
    }
   ],
   "source": [
    "name[2:6:1]"
   ]
  },
  {
   "cell_type": "markdown",
   "id": "105a86a8",
   "metadata": {},
   "source": [
    "Task 7:\n",
    "1. string = \"Python@1234\"\n",
    "2. Use slicing to extract every second character from the string.\n",
    "3. Print the resulting sliced string."
   ]
  },
  {
   "cell_type": "code",
   "execution_count": 52,
   "id": "d68efb08",
   "metadata": {},
   "outputs": [],
   "source": [
    "string=\"Python@1234\""
   ]
  },
  {
   "cell_type": "code",
   "execution_count": 55,
   "id": "918386e4",
   "metadata": {},
   "outputs": [
    {
     "data": {
      "text/plain": [
       "'Pto@24'"
      ]
     },
     "execution_count": 55,
     "metadata": {},
     "output_type": "execute_result"
    }
   ],
   "source": [
    "string[:12:2]    "
   ]
  },
  {
   "cell_type": "markdown",
   "id": "bc8a3812",
   "metadata": {},
   "source": [
    "Task 8:\n",
    "1.  print last five letters.\n",
    "2. Utilize slicing to reverse the word order in the string.\n",
    "3. Print the string with the words in the reversed order."
   ]
  },
  {
   "cell_type": "code",
   "execution_count": 59,
   "id": "8c9f2f91",
   "metadata": {},
   "outputs": [],
   "source": [
    "name=\"data scientist\""
   ]
  },
  {
   "cell_type": "code",
   "execution_count": 60,
   "id": "ee3b9258",
   "metadata": {},
   "outputs": [
    {
     "data": {
      "text/plain": [
       "14"
      ]
     },
     "execution_count": 60,
     "metadata": {},
     "output_type": "execute_result"
    }
   ],
   "source": [
    "len(name)"
   ]
  },
  {
   "cell_type": "code",
   "execution_count": 62,
   "id": "f2bf0f4e",
   "metadata": {},
   "outputs": [
    {
     "data": {
      "text/plain": [
       "'ntist'"
      ]
     },
     "execution_count": 62,
     "metadata": {},
     "output_type": "execute_result"
    }
   ],
   "source": [
    "name[9::1]"
   ]
  },
  {
   "cell_type": "code",
   "execution_count": 67,
   "id": "842f1043",
   "metadata": {},
   "outputs": [
    {
     "data": {
      "text/plain": [
       "'tsitn'"
      ]
     },
     "execution_count": 67,
     "metadata": {},
     "output_type": "execute_result"
    }
   ],
   "source": [
    "name[-1:-6:-1]"
   ]
  },
  {
   "cell_type": "code",
   "execution_count": 64,
   "id": "186cd693",
   "metadata": {},
   "outputs": [
    {
     "data": {
      "text/plain": [
       "'tsitneics atad'"
      ]
     },
     "execution_count": 64,
     "metadata": {},
     "output_type": "execute_result"
    }
   ],
   "source": [
    "name[-1:-15:-1]"
   ]
  },
  {
   "cell_type": "markdown",
   "id": "9c249528",
   "metadata": {},
   "source": [
    "Task 9:\n",
    "1. a = \"123123123\"\n",
    "2. Apply slicing to extract only the numeric characters at odd positions.\n",
    "3. Print the sliced result."
   ]
  },
  {
   "cell_type": "code",
   "execution_count": 13,
   "id": "588dfec8",
   "metadata": {},
   "outputs": [],
   "source": [
    "a= \"123123123\""
   ]
  },
  {
   "cell_type": "code",
   "execution_count": 14,
   "id": "1a98680c",
   "metadata": {},
   "outputs": [
    {
     "data": {
      "text/plain": [
       "'2132'"
      ]
     },
     "execution_count": 14,
     "metadata": {},
     "output_type": "execute_result"
    }
   ],
   "source": [
    "a[1::2]                 #the step count is 2 bcoz it skips two characters at a time so that we can get the odd positions"
   ]
  },
  {
   "cell_type": "code",
   "execution_count": null,
   "id": "c065e4f9",
   "metadata": {},
   "outputs": [],
   "source": []
  }
 ],
 "metadata": {
  "kernelspec": {
   "display_name": "Python 3 (ipykernel)",
   "language": "python",
   "name": "python3"
  },
  "language_info": {
   "codemirror_mode": {
    "name": "ipython",
    "version": 3
   },
   "file_extension": ".py",
   "mimetype": "text/x-python",
   "name": "python",
   "nbconvert_exporter": "python",
   "pygments_lexer": "ipython3",
   "version": "3.11.4"
  }
 },
 "nbformat": 4,
 "nbformat_minor": 5
}
