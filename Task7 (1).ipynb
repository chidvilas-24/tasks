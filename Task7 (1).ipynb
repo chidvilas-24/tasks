{
 "cells": [
  {
   "cell_type": "markdown",
   "id": "f02710a3",
   "metadata": {},
   "source": [
    "\n",
    "**Task 1: Dictionary Basics**\n",
    "Create a Python program that defines a dictionary to store information about your `favorite book`. Include the title, author, publication year, and genre as key-value pairs. Print out the dictionary.and do atleast 5 dictionary methods on it.\n",
    "\n",
    "**Task 2: Dictionary Lookup**\n",
    "Write a Python program that simulates a simple dictionary for translating `English words to Spanish`. Define a dictionary containing a few English words as `keys` and their corresponding Spanish translations as `values`. Allow `users to enter` an English word, and then display its Spanish translation `if it exists` in the dictionary.(use google for English to Spanish translator)\n",
    "\n",
    "**Task 3: Student Grades**\n",
    "Create a Python program that stores the `grades of five students` in a dictionary. Allow users to input the names of the students and their respective grades. Calculate and display the `average grade` of the students.\n",
    "\n",
    "**Task 4: Contact List**\n",
    "Build a basic contact list using a dictionary. Initially, the dictionary can be `empty`. Allow users to `add new contacts` with `names and phone numbers`. Users should also be able to search for contacts by name and display their phone numbers(use in operator).\n",
    "\n",
    "**Task 5: Dictionary Iteration**\n",
    "Write a Python program that defines a dictionary containing the names of `fruits as keys` and their corresponding `colors as values` (e.g., 'apple': 'red').Do atleast 5 dictionary methods on it.\n"
   ]
  },
  {
   "cell_type": "markdown",
   "id": "3e32688e",
   "metadata": {},
   "source": [
    "Task 1: Dictionary Basics Create a Python program that defines a dictionary to store information about your favorite book. Include the title, author, publication year, and genre as key-value pairs. Print out the dictionary.and do atleast 5 dictionary methods on it."
   ]
  },
  {
   "cell_type": "code",
   "execution_count": 4,
   "id": "b194829a",
   "metadata": {},
   "outputs": [],
   "source": [
    "book={'title':'how toget rich','author':'flex dennis','publication year':'2017','genre':'self improvement'}"
   ]
  },
  {
   "cell_type": "code",
   "execution_count": 5,
   "id": "c6922b53",
   "metadata": {},
   "outputs": [
    {
     "data": {
      "text/plain": [
       "dict"
      ]
     },
     "execution_count": 5,
     "metadata": {},
     "output_type": "execute_result"
    }
   ],
   "source": [
    "type(book)"
   ]
  },
  {
   "cell_type": "code",
   "execution_count": 6,
   "id": "8a2d7c78",
   "metadata": {},
   "outputs": [
    {
     "name": "stdout",
     "output_type": "stream",
     "text": [
      "{'title': 'how toget rich', 'author': 'flex dennis', 'publication year': '2017', 'genre': 'self improvement'}\n"
     ]
    }
   ],
   "source": [
    "print(book)"
   ]
  },
  {
   "cell_type": "code",
   "execution_count": 7,
   "id": "e1b5461a",
   "metadata": {},
   "outputs": [
    {
     "data": {
      "text/plain": [
       "dict_items([('title', 'how toget rich'), ('author', 'flex dennis'), ('publication year', '2017'), ('genre', 'self improvement')])"
      ]
     },
     "execution_count": 7,
     "metadata": {},
     "output_type": "execute_result"
    }
   ],
   "source": [
    "book.items()"
   ]
  },
  {
   "cell_type": "code",
   "execution_count": 8,
   "id": "14a03e86",
   "metadata": {},
   "outputs": [
    {
     "data": {
      "text/plain": [
       "dict_keys(['title', 'author', 'publication year', 'genre'])"
      ]
     },
     "execution_count": 8,
     "metadata": {},
     "output_type": "execute_result"
    }
   ],
   "source": [
    "book.keys()"
   ]
  },
  {
   "cell_type": "code",
   "execution_count": 9,
   "id": "3f331efa",
   "metadata": {},
   "outputs": [
    {
     "data": {
      "text/plain": [
       "dict_values(['how toget rich', 'flex dennis', '2017', 'self improvement'])"
      ]
     },
     "execution_count": 9,
     "metadata": {},
     "output_type": "execute_result"
    }
   ],
   "source": [
    "book.values()"
   ]
  },
  {
   "cell_type": "code",
   "execution_count": 11,
   "id": "fb6eee0d",
   "metadata": {},
   "outputs": [
    {
     "data": {
      "text/plain": [
       "'flex dennis'"
      ]
     },
     "execution_count": 11,
     "metadata": {},
     "output_type": "execute_result"
    }
   ],
   "source": [
    "book.get('author')"
   ]
  },
  {
   "cell_type": "code",
   "execution_count": 12,
   "id": "ebb85a56",
   "metadata": {},
   "outputs": [
    {
     "data": {
      "text/plain": [
       "'self improvement'"
      ]
     },
     "execution_count": 12,
     "metadata": {},
     "output_type": "execute_result"
    }
   ],
   "source": [
    "book.pop('genre')"
   ]
  },
  {
   "cell_type": "markdown",
   "id": "bbf1ba2d",
   "metadata": {},
   "source": [
    "Task 2: Dictionary Lookup Write a Python program that simulates a simple dictionary for translating English words to Spanish. Define a dictionary containing a few English words as keys and their corresponding Spanish translations as values. Allow users to enter an English word, and then display its Spanish translation if it exists in the dictionary.(use google for English to Spanish translator)"
   ]
  },
  {
   "cell_type": "code",
   "execution_count": 2,
   "id": "2ea9ecaf",
   "metadata": {},
   "outputs": [
    {
     "name": "stdout",
     "output_type": "stream",
     "text": [
      "enter english word: how\n"
     ]
    },
    {
     "data": {
      "text/plain": [
       "'cómo'"
      ]
     },
     "execution_count": 2,
     "metadata": {},
     "output_type": "execute_result"
    }
   ],
   "source": [
    "dic1={'hi':'Hola','how':'cómo','where':'dónde','she':'ella','he':'él','amazing':'asombrosa','excellent':'excelente'}\n",
    "dic1.pop(input('enter english word: '))"
   ]
  },
  {
   "cell_type": "markdown",
   "id": "086d0982",
   "metadata": {},
   "source": [
    "Task 3: Student Grades Create a Python program that stores the grades of five students in a dictionary. Allow users to input the names of the students and their respective grades. Calculate and display the average grade of the students."
   ]
  },
  {
   "cell_type": "code",
   "execution_count": 1,
   "id": "749b5794",
   "metadata": {},
   "outputs": [
    {
     "name": "stdout",
     "output_type": "stream",
     "text": [
      "Enter the student name: eeshanth\n",
      "Enter the grade : 9.0\n",
      "Enter the student name: siddu\n",
      "Enter the grade : 9.5\n",
      "Enter the student name: lohith\n",
      "Enter the grade : 7.6\n",
      "Enter the student name: shankar\n",
      "Enter the grade : 8.3\n",
      "Enter the student name: mukesh\n",
      "Enter the grade : 9.3\n"
     ]
    }
   ],
   "source": [
    "grades = {}\n",
    "name1 = input(\"Enter the student name: \")\n",
    "grade1 = float(input(\"Enter the grade : \"))\n",
    "name2 = input(\"Enter the student name: \")\n",
    "grade2 = float(input(\"Enter the grade : \"))\n",
    "name3 = input(\"Enter the student name: \")\n",
    "grade3 = float(input(\"Enter the grade : \"))\n",
    "name4 = input(\"Enter the student name: \")\n",
    "grade4 = float(input(\"Enter the grade : \"))\n",
    "name5 = input(\"Enter the student name: \")\n",
    "grade5 = float(input(\"Enter the grade : \"))\n",
    "\n"
   ]
  },
  {
   "cell_type": "code",
   "execution_count": 4,
   "id": "be051b1c",
   "metadata": {},
   "outputs": [],
   "source": [
    "grades.update({name1:grade1,name2:grade2,name3:grade3,name4:grade4,name5:grade5})"
   ]
  },
  {
   "cell_type": "code",
   "execution_count": 5,
   "id": "f8ea84f6",
   "metadata": {},
   "outputs": [
    {
     "data": {
      "text/plain": [
       "{'eeshanth': 9.0, 'siddu': 9.5, 'lohith': 7.6, 'shankar': 8.3, 'mukesh': 9.3}"
      ]
     },
     "execution_count": 5,
     "metadata": {},
     "output_type": "execute_result"
    }
   ],
   "source": [
    "grades"
   ]
  },
  {
   "cell_type": "code",
   "execution_count": 7,
   "id": "d8604c96",
   "metadata": {},
   "outputs": [
    {
     "name": "stdout",
     "output_type": "stream",
     "text": [
      "8.74\n"
     ]
    }
   ],
   "source": [
    "val=sum(grades.values())\n",
    "len(grades)\n",
    "avg=sum(grades.values())/len(grades)\n",
    "print(avg)"
   ]
  },
  {
   "cell_type": "markdown",
   "id": "9527a41e",
   "metadata": {},
   "source": [
    "Task 4: Contact List Build a basic contact list using a dictionary. Initially, the dictionary can be empty. Allow users to add new contacts with names and phone numbers. Users should also be able to search for contacts by name and display their phone numbers(use in operator)."
   ]
  },
  {
   "cell_type": "code",
   "execution_count": 9,
   "id": "33e9e7ee",
   "metadata": {},
   "outputs": [],
   "source": [
    "contacts={}"
   ]
  },
  {
   "cell_type": "code",
   "execution_count": 19,
   "id": "ecb70073",
   "metadata": {},
   "outputs": [
    {
     "name": "stdout",
     "output_type": "stream",
     "text": [
      "enter name:  eeshanth\n",
      "enter number:  8184870456\n",
      "enter name:  siddu\n",
      "enter number:  7893075396\n",
      "enter name:  lohith\n",
      "enter number:  9963184028\n"
     ]
    }
   ],
   "source": [
    "name1=input(\"enter name:  \")\n",
    "number1=input(\"enter number:  \")\n",
    "name2=input(\"enter name:  \")\n",
    "number2=input(\"enter number:  \")\n",
    "name3=input(\"enter name:  \")\n",
    "number3=input(\"enter number:  \")\n"
   ]
  },
  {
   "cell_type": "code",
   "execution_count": 20,
   "id": "475a8e00",
   "metadata": {},
   "outputs": [],
   "source": [
    "contacts.update({name1:number1,name2:number2,name3:number3})"
   ]
  },
  {
   "cell_type": "code",
   "execution_count": 21,
   "id": "449ea48b",
   "metadata": {},
   "outputs": [
    {
     "data": {
      "text/plain": [
       "{'eeshanth': '8184870456', 'siddu': '7893075396', 'lohith': '9963184028'}"
      ]
     },
     "execution_count": 21,
     "metadata": {},
     "output_type": "execute_result"
    }
   ],
   "source": [
    "contacts\n"
   ]
  },
  {
   "cell_type": "code",
   "execution_count": 22,
   "id": "bae27b76",
   "metadata": {},
   "outputs": [
    {
     "data": {
      "text/plain": [
       "'8184870456'"
      ]
     },
     "execution_count": 22,
     "metadata": {},
     "output_type": "execute_result"
    }
   ],
   "source": [
    "contacts.get('eeshanth')"
   ]
  },
  {
   "cell_type": "code",
   "execution_count": 23,
   "id": "e99f423e",
   "metadata": {},
   "outputs": [
    {
     "data": {
      "text/plain": [
       "'7893075396'"
      ]
     },
     "execution_count": 23,
     "metadata": {},
     "output_type": "execute_result"
    }
   ],
   "source": [
    "contacts.get('siddu')"
   ]
  },
  {
   "cell_type": "markdown",
   "id": "25cfd219",
   "metadata": {},
   "source": [
    "Task 5: Dictionary Iteration Write a Python program that defines a dictionary containing the names of fruits as keys and their corresponding colors as values (e.g., 'apple': 'red').Do atleast 5 dictionary methods on it."
   ]
  },
  {
   "cell_type": "code",
   "execution_count": 6,
   "id": "2c4224de",
   "metadata": {},
   "outputs": [],
   "source": [
    "fruits={'apple':'red','water melon':'green','pine apple':'yellow','dragon fruit':'pink','Sapodilla':'brown'}"
   ]
  },
  {
   "cell_type": "code",
   "execution_count": 7,
   "id": "133d461b",
   "metadata": {},
   "outputs": [
    {
     "data": {
      "text/plain": [
       "dict_items([('apple', 'red'), ('water melon', 'green'), ('pine apple', 'yellow'), ('dragon fruit', 'pink'), ('Sapodilla', 'brown')])"
      ]
     },
     "execution_count": 7,
     "metadata": {},
     "output_type": "execute_result"
    }
   ],
   "source": [
    "fruits.items()"
   ]
  },
  {
   "cell_type": "code",
   "execution_count": 9,
   "id": "0a013daa",
   "metadata": {},
   "outputs": [
    {
     "data": {
      "text/plain": [
       "'red'"
      ]
     },
     "execution_count": 9,
     "metadata": {},
     "output_type": "execute_result"
    }
   ],
   "source": [
    "fruits.get('apple')"
   ]
  },
  {
   "cell_type": "code",
   "execution_count": 10,
   "id": "9778b1ef",
   "metadata": {},
   "outputs": [
    {
     "data": {
      "text/plain": [
       "'green'"
      ]
     },
     "execution_count": 10,
     "metadata": {},
     "output_type": "execute_result"
    }
   ],
   "source": [
    "fruits.pop('water melon')"
   ]
  },
  {
   "cell_type": "code",
   "execution_count": 12,
   "id": "7784b54c",
   "metadata": {},
   "outputs": [
    {
     "data": {
      "text/plain": [
       "dict_values(['red', 'yellow', 'pink', 'brown'])"
      ]
     },
     "execution_count": 12,
     "metadata": {},
     "output_type": "execute_result"
    }
   ],
   "source": [
    "fruits.values()"
   ]
  },
  {
   "cell_type": "code",
   "execution_count": 13,
   "id": "6f09efe8",
   "metadata": {},
   "outputs": [
    {
     "data": {
      "text/plain": [
       "dict_keys(['apple', 'pine apple', 'dragon fruit', 'Sapodilla'])"
      ]
     },
     "execution_count": 13,
     "metadata": {},
     "output_type": "execute_result"
    }
   ],
   "source": [
    "fruits.keys()"
   ]
  },
  {
   "cell_type": "code",
   "execution_count": null,
   "id": "b30e9e05",
   "metadata": {},
   "outputs": [],
   "source": []
  }
 ],
 "metadata": {
  "kernelspec": {
   "display_name": "Python 3 (ipykernel)",
   "language": "python",
   "name": "python3"
  },
  "language_info": {
   "codemirror_mode": {
    "name": "ipython",
    "version": 3
   },
   "file_extension": ".py",
   "mimetype": "text/x-python",
   "name": "python",
   "nbconvert_exporter": "python",
   "pygments_lexer": "ipython3",
   "version": "3.11.4"
  }
 },
 "nbformat": 4,
 "nbformat_minor": 5
}
