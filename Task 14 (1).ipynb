{
 "cells": [
  {
   "cell_type": "markdown",
   "id": "dd9881f5",
   "metadata": {},
   "source": [
    "\n",
    "1. \n",
    "\n",
    "   - Create a lambda function that takes two arguments and returns their sum.\n",
    "   - Create another lambda function that takes a single argument and returns its square.\n",
    "   - Use the `lambda` functions to calculate the sum and square of various numbers and print the results.\n",
    "\n",
    "2. \n",
    "   - Define a list of integers.\n",
    "   - Use the `filter` function to create a new list that contains only the even numbers from the original list.\n",
    "   - Use the `filter` function again to create a new list that contains only numbers greater than 10 from the original list.\n",
    "   - Print both filtered lists.\n",
    "\n",
    "3. \n",
    "   - Define a list of strings where each string represents a number (e.g., `[\"1\", \"2\", \"3\"]`).\n",
    "   - Use the `map` function to convert each string to an integer and store the result in a new list.\n",
    "   - Use the `map` function again to square each integer in the new list and store the result in another new list.\n",
    "   - Print both new lists.\n",
    "\n",
    "4. \n",
    "   - Create a list of dictionaries, where each dictionary represents a person with keys \"name\" and \"age\". Example: ` [{\"name\": \"Alice\", \"age\": 30}, {\"name\": \"Bob\", \"age\": 25}, ...]`\n",
    "   - Use the `filter` function to create a new list that contains only the people who are older than 25.\n",
    "   - Use the `map` function to create a new list that contains the names of the filtered people.\n",
    "   - Print the list of names.\n",
    "\n",
    "5. \n",
    "   - Create a program that reads a list of numbers from the user (you can use the `input` function for this).\n",
    "   - Use `map` and `filter` functions to perform the following operations:\n",
    "     - Square each number.\n",
    "     - Filter out numbers that are not divisible by 3.\n",
    "   - Print the result.\n"
   ]
  },
  {
   "cell_type": "markdown",
   "id": "9a7c2520",
   "metadata": {},
   "source": [
    "1. \n",
    "\n",
    "   - Create a lambda function that takes two arguments and returns their sum.\n",
    "   - Create another lambda function that takes a single argument and returns its square.\n",
    "   - Use the `lambda` functions to calculate the sum and square of various numbers and print the results."
   ]
  },
  {
   "cell_type": "code",
   "execution_count": 10,
   "id": "0baa4cdb",
   "metadata": {},
   "outputs": [],
   "source": [
    "#- Create a lambda function that takes two arguments and returns their sum."
   ]
  },
  {
   "cell_type": "code",
   "execution_count": 8,
   "id": "d18a259c",
   "metadata": {},
   "outputs": [],
   "source": [
    "c=lambda x,y:x+y"
   ]
  },
  {
   "cell_type": "code",
   "execution_count": 9,
   "id": "4f5cd3c2",
   "metadata": {},
   "outputs": [
    {
     "data": {
      "text/plain": [
       "18"
      ]
     },
     "execution_count": 9,
     "metadata": {},
     "output_type": "execute_result"
    }
   ],
   "source": [
    "c(7,11)"
   ]
  },
  {
   "cell_type": "markdown",
   "id": "ed1cb51d",
   "metadata": {},
   "source": [
    "- Create another lambda function that takes a single argument and returns its square."
   ]
  },
  {
   "cell_type": "code",
   "execution_count": 12,
   "id": "d3cc5009",
   "metadata": {},
   "outputs": [],
   "source": [
    "a= lambda n: n**2"
   ]
  },
  {
   "cell_type": "code",
   "execution_count": 13,
   "id": "7f2f87ee",
   "metadata": {},
   "outputs": [
    {
     "data": {
      "text/plain": [
       "16"
      ]
     },
     "execution_count": 13,
     "metadata": {},
     "output_type": "execute_result"
    }
   ],
   "source": [
    "a(4)"
   ]
  },
  {
   "cell_type": "markdown",
   "id": "75d068c4",
   "metadata": {},
   "source": [
    " Use the `lambda` functions to calculate the sum and square of various numbers and print the results."
   ]
  },
  {
   "cell_type": "code",
   "execution_count": 18,
   "id": "c1edb18a",
   "metadata": {},
   "outputs": [],
   "source": [
    "add=lambda *n:sum(n)"
   ]
  },
  {
   "cell_type": "code",
   "execution_count": 20,
   "id": "61410f66",
   "metadata": {},
   "outputs": [
    {
     "data": {
      "text/plain": [
       "21"
      ]
     },
     "execution_count": 20,
     "metadata": {},
     "output_type": "execute_result"
    }
   ],
   "source": [
    "add(1,2,3,4,5,6)"
   ]
  },
  {
   "cell_type": "code",
   "execution_count": 27,
   "id": "8f3a32d7",
   "metadata": {},
   "outputs": [
    {
     "data": {
      "text/plain": [
       "[16, 36, 64, 4, 81, 25]"
      ]
     },
     "execution_count": 27,
     "metadata": {},
     "output_type": "execute_result"
    }
   ],
   "source": [
    "list1=[4,6,8,2,9,5]\n",
    "list(map(lambda n:n**2,list1))"
   ]
  },
  {
   "cell_type": "markdown",
   "id": "f67b215f",
   "metadata": {},
   "source": [
    "2. \n",
    "   - Define a list of integers.\n",
    "   - Use the `filter` function to create a new list that contains only the even numbers from the original list.\n",
    "   - Use the `filter` function again to create a new list that contains only numbers greater than 10 from the original list.\n",
    "   - Print both filtered lists."
   ]
  },
  {
   "cell_type": "markdown",
   "id": "50d31e70",
   "metadata": {},
   "source": [
    "- Use the `filter` function to create a new list that contains only the even numbers from the original list"
   ]
  },
  {
   "cell_type": "code",
   "execution_count": 28,
   "id": "0afe1279",
   "metadata": {},
   "outputs": [],
   "source": [
    "def even(n):\n",
    "    if n%2==0:\n",
    "        return n"
   ]
  },
  {
   "cell_type": "code",
   "execution_count": 29,
   "id": "e365d9b3",
   "metadata": {},
   "outputs": [],
   "source": [
    "list1=[2,6,9,12,15,27,48,54,87,98]"
   ]
  },
  {
   "cell_type": "code",
   "execution_count": 30,
   "id": "deffdc6e",
   "metadata": {},
   "outputs": [
    {
     "data": {
      "text/plain": [
       "[2, 6, 12, 48, 54, 98]"
      ]
     },
     "execution_count": 30,
     "metadata": {},
     "output_type": "execute_result"
    }
   ],
   "source": [
    "list(filter(even,list1))"
   ]
  },
  {
   "cell_type": "markdown",
   "id": "6be009f9",
   "metadata": {},
   "source": [
    " - Use the `filter` function again to create a new list that contains only numbers greater than 10 from the original list."
   ]
  },
  {
   "cell_type": "code",
   "execution_count": 31,
   "id": "23f4808e",
   "metadata": {},
   "outputs": [],
   "source": [
    "def great(n):\n",
    "    if n>=10:\n",
    "        return n"
   ]
  },
  {
   "cell_type": "code",
   "execution_count": 32,
   "id": "0136d7da",
   "metadata": {},
   "outputs": [
    {
     "data": {
      "text/plain": [
       "[12, 15, 27, 48, 54, 87, 98]"
      ]
     },
     "execution_count": 32,
     "metadata": {},
     "output_type": "execute_result"
    }
   ],
   "source": [
    "list(filter(great,list1))"
   ]
  },
  {
   "cell_type": "markdown",
   "id": "8b713aa2",
   "metadata": {},
   "source": [
    "- Print both filtered lists."
   ]
  },
  {
   "cell_type": "code",
   "execution_count": 34,
   "id": "25863117",
   "metadata": {},
   "outputs": [
    {
     "name": "stdout",
     "output_type": "stream",
     "text": [
      "[2, 6, 12, 48, 54, 98]\n",
      "[12, 15, 27, 48, 54, 87, 98]\n"
     ]
    }
   ],
   "source": [
    "print(list(filter(even,list1)))\n",
    "print(list(filter(great,list1)))"
   ]
  },
  {
   "cell_type": "markdown",
   "id": "93743dd0",
   "metadata": {},
   "source": [
    "3. \n",
    "   - Define a list of strings where each string represents a number (e.g., `[\"1\", \"2\", \"3\"]`).\n",
    "   - Use the `map` function to convert each string to an integer and store the result in a new list.\n",
    "   - Use the `map` function again to square each integer in the new list and store the result in another new list.\n",
    "   - Print both new lists."
   ]
  },
  {
   "cell_type": "markdown",
   "id": "1610b92e",
   "metadata": {},
   "source": [
    " - Define a list of strings where each string represents a number (e.g., `[\"1\", \"2\", \"3\"]`)."
   ]
  },
  {
   "cell_type": "code",
   "execution_count": 35,
   "id": "44c9e17b",
   "metadata": {},
   "outputs": [],
   "source": [
    "list1=[\"33\",\"12\",\"35\",\"54\",\"3\"]"
   ]
  },
  {
   "cell_type": "markdown",
   "id": "1899f403",
   "metadata": {},
   "source": [
    " - Use the `map` function to convert each string to an integer and store the result in a new list."
   ]
  },
  {
   "cell_type": "code",
   "execution_count": 36,
   "id": "c0b96490",
   "metadata": {},
   "outputs": [],
   "source": [
    "def stoa(n):\n",
    "    if type(n)==str:\n",
    "        return int(n)"
   ]
  },
  {
   "cell_type": "code",
   "execution_count": 38,
   "id": "a3edcb4f",
   "metadata": {},
   "outputs": [],
   "source": [
    "c=list(map(stoa,list1))"
   ]
  },
  {
   "cell_type": "code",
   "execution_count": 39,
   "id": "a0403ca2",
   "metadata": {},
   "outputs": [
    {
     "data": {
      "text/plain": [
       "[33, 12, 35, 54, 3]"
      ]
     },
     "execution_count": 39,
     "metadata": {},
     "output_type": "execute_result"
    }
   ],
   "source": [
    "c"
   ]
  },
  {
   "cell_type": "markdown",
   "id": "8d649b91",
   "metadata": {},
   "source": [
    "- Use the `map` function again to square each integer in the new list and store the result in another new list."
   ]
  },
  {
   "cell_type": "code",
   "execution_count": 45,
   "id": "2add436d",
   "metadata": {},
   "outputs": [],
   "source": [
    "a=list(map(lambda n:n**2,c))"
   ]
  },
  {
   "cell_type": "code",
   "execution_count": 46,
   "id": "92a886ed",
   "metadata": {},
   "outputs": [
    {
     "data": {
      "text/plain": [
       "[1089, 144, 1225, 2916, 9]"
      ]
     },
     "execution_count": 46,
     "metadata": {},
     "output_type": "execute_result"
    }
   ],
   "source": [
    "a"
   ]
  },
  {
   "cell_type": "markdown",
   "id": "c2a31bc4",
   "metadata": {},
   "source": [
    " - Print both new lists."
   ]
  },
  {
   "cell_type": "code",
   "execution_count": 48,
   "id": "584e24ca",
   "metadata": {},
   "outputs": [
    {
     "data": {
      "text/plain": [
       "[33, 12, 35, 54, 3]"
      ]
     },
     "execution_count": 48,
     "metadata": {},
     "output_type": "execute_result"
    }
   ],
   "source": [
    "c     #string to integer converted list"
   ]
  },
  {
   "cell_type": "code",
   "execution_count": 50,
   "id": "64758b4b",
   "metadata": {},
   "outputs": [
    {
     "data": {
      "text/plain": [
       "[1089, 144, 1225, 2916, 9]"
      ]
     },
     "execution_count": 50,
     "metadata": {},
     "output_type": "execute_result"
    }
   ],
   "source": [
    "a     #squares of the new integer list"
   ]
  },
  {
   "cell_type": "markdown",
   "id": "6d78d865",
   "metadata": {},
   "source": [
    "4. \n",
    "   - Create a list of dictionaries, where each dictionary represents a person with keys \"name\" and \"age\". Example: ` [{\"name\": \"Alice\", \"age\": 30}, {\"name\": \"Bob\", \"age\": 25}, ...]`\n",
    "   - Use the `filter` function to create a new list that contains only the people who are older than 25.\n",
    "   - Use the `map` function to create a new list that contains the names of the filtered people.\n",
    "   - Print the list of names."
   ]
  },
  {
   "cell_type": "code",
   "execution_count": 54,
   "id": "482459cb",
   "metadata": {},
   "outputs": [],
   "source": [
    "dic=[{\"name\":\"srinivas\",\"age\":\"49\"},{\"name\":\"chidvilas\",\"age\":\"21\"},{\"name\":\"eeshanth\",\"age\":\"27\"},{\"name\":\"shankar\",\"age\":\"33\"}]"
   ]
  },
  {
   "cell_type": "code",
   "execution_count": 62,
   "id": "ebad9fd8",
   "metadata": {},
   "outputs": [],
   "source": [
    "def old(n):\n",
    "    if n[\"age\"]>=\"25\":\n",
    "        return n[\"age\"]"
   ]
  },
  {
   "cell_type": "code",
   "execution_count": 63,
   "id": "5bc62d6b",
   "metadata": {},
   "outputs": [],
   "source": [
    "x=list(filter(old,dic))"
   ]
  },
  {
   "cell_type": "code",
   "execution_count": 64,
   "id": "243c2512",
   "metadata": {},
   "outputs": [
    {
     "data": {
      "text/plain": [
       "[{'name': 'srinivas', 'age': '49'},\n",
       " {'name': 'eeshanth', 'age': '27'},\n",
       " {'name': 'shankar', 'age': '33'}]"
      ]
     },
     "execution_count": 64,
     "metadata": {},
     "output_type": "execute_result"
    }
   ],
   "source": [
    "x"
   ]
  },
  {
   "cell_type": "code",
   "execution_count": 66,
   "id": "279a9700",
   "metadata": {},
   "outputs": [
    {
     "data": {
      "text/plain": [
       "[{'name': 'srinivas'}, {'name': 'eeshanth'}, {'name': 'shankar'}]"
      ]
     },
     "execution_count": 66,
     "metadata": {},
     "output_type": "execute_result"
    }
   ],
   "source": [
    "def names(n):\n",
    "    return {\"name\" : n[\"name\"]}\n",
    "list(map(names,x))"
   ]
  },
  {
   "cell_type": "markdown",
   "id": "d3468ebf",
   "metadata": {},
   "source": [
    "5. \n",
    "   - Create a program that reads a list of numbers from the user (you can use the `input` function for this).\n",
    "   - Use `map` and `filter` functions to perform the following operations:\n",
    "     - Square each number.\n",
    "     - Filter out numbers that are not divisible by 3.\n",
    "   - Print the result."
   ]
  },
  {
   "cell_type": "code",
   "execution_count": 70,
   "id": "15e0a9d0",
   "metadata": {},
   "outputs": [
    {
     "name": "stdout",
     "output_type": "stream",
     "text": [
      "enter the number of elements in the list:  7\n",
      "enter the number:  3\n",
      "enter the number:  8\n",
      "enter the number:  6\n",
      "enter the number:  4\n",
      "enter the number:  67\n",
      "enter the number:  87\n",
      "enter the number:  34\n",
      "[3, 8, 6, 4, 67, 87, 34]\n"
     ]
    }
   ],
   "source": [
    "list1=[]\n",
    "n=int(input(\"enter the number of elements in the list:  \"))\n",
    "for i in range(1,n+1):\n",
    "    a=int(input(\"enter the number:  \"))\n",
    "    list1.append(a)\n",
    "print(list1)"
   ]
  },
  {
   "cell_type": "code",
   "execution_count": 71,
   "id": "c182b494",
   "metadata": {},
   "outputs": [],
   "source": [
    "def sqr(n):\n",
    "    return(n**2)"
   ]
  },
  {
   "cell_type": "code",
   "execution_count": 72,
   "id": "0f0b9887",
   "metadata": {},
   "outputs": [
    {
     "data": {
      "text/plain": [
       "[9, 64, 36, 16, 4489, 7569, 1156]"
      ]
     },
     "execution_count": 72,
     "metadata": {},
     "output_type": "execute_result"
    }
   ],
   "source": [
    "list(map(sqr,list1))"
   ]
  },
  {
   "cell_type": "code",
   "execution_count": 73,
   "id": "5f181fd9",
   "metadata": {},
   "outputs": [],
   "source": [
    "def fil(n):\n",
    "    if n%3!=0:\n",
    "        return(n)"
   ]
  },
  {
   "cell_type": "code",
   "execution_count": 74,
   "id": "b2b3c6d2",
   "metadata": {},
   "outputs": [
    {
     "data": {
      "text/plain": [
       "[8, 4, 67, 34]"
      ]
     },
     "execution_count": 74,
     "metadata": {},
     "output_type": "execute_result"
    }
   ],
   "source": [
    "list(filter(fil,list1))"
   ]
  },
  {
   "cell_type": "markdown",
   "id": "a8605a9a",
   "metadata": {},
   "source": [
    "### class task"
   ]
  },
  {
   "cell_type": "code",
   "execution_count": 75,
   "id": "af3e6871",
   "metadata": {},
   "outputs": [],
   "source": [
    "# take combination of some integers,float and string print only float values\n",
    "# print only strings\n",
    "# replace integer values with a name is called integer, float values with float, string values with string"
   ]
  },
  {
   "cell_type": "code",
   "execution_count": 76,
   "id": "1f717787",
   "metadata": {},
   "outputs": [],
   "source": [
    "a= [1,4,0.15,6,\"hello\",0.5,56,1.75,\"hai\",23,736,0.4762547,\"iam\"]"
   ]
  },
  {
   "cell_type": "code",
   "execution_count": 77,
   "id": "c00d33e6",
   "metadata": {},
   "outputs": [],
   "source": [
    "def fl(n):\n",
    "    if type(n)==float:\n",
    "        return(n)"
   ]
  },
  {
   "cell_type": "code",
   "execution_count": 78,
   "id": "1a0c7d6c",
   "metadata": {},
   "outputs": [
    {
     "data": {
      "text/plain": [
       "[0.15, 0.5, 1.75, 0.4762547]"
      ]
     },
     "execution_count": 78,
     "metadata": {},
     "output_type": "execute_result"
    }
   ],
   "source": [
    "list(filter(fl,a))"
   ]
  },
  {
   "cell_type": "code",
   "execution_count": 79,
   "id": "4bd9a3a4",
   "metadata": {},
   "outputs": [],
   "source": [
    "def st(n):\n",
    "    if type(n)==str:\n",
    "        return(n)"
   ]
  },
  {
   "cell_type": "code",
   "execution_count": 80,
   "id": "344ea107",
   "metadata": {},
   "outputs": [
    {
     "data": {
      "text/plain": [
       "['hello', 'hai', 'iam']"
      ]
     },
     "execution_count": 80,
     "metadata": {},
     "output_type": "execute_result"
    }
   ],
   "source": [
    "list(filter(st,a))"
   ]
  },
  {
   "cell_type": "code",
   "execution_count": 81,
   "id": "40cabaed",
   "metadata": {},
   "outputs": [],
   "source": [
    "def val(n):\n",
    "    if type(n)==float:\n",
    "        return(\"float\")\n",
    "    elif type(n)== int:\n",
    "        return(\"integer\")\n",
    "    else:\n",
    "        return(\"string\")"
   ]
  },
  {
   "cell_type": "code",
   "execution_count": 82,
   "id": "e2e6a603",
   "metadata": {},
   "outputs": [
    {
     "data": {
      "text/plain": [
       "['integer',\n",
       " 'integer',\n",
       " 'float',\n",
       " 'integer',\n",
       " 'string',\n",
       " 'float',\n",
       " 'integer',\n",
       " 'float',\n",
       " 'string',\n",
       " 'integer',\n",
       " 'integer',\n",
       " 'float',\n",
       " 'string']"
      ]
     },
     "execution_count": 82,
     "metadata": {},
     "output_type": "execute_result"
    }
   ],
   "source": [
    "list(map(val,a))"
   ]
  },
  {
   "cell_type": "code",
   "execution_count": null,
   "id": "44658f03",
   "metadata": {},
   "outputs": [],
   "source": []
  }
 ],
 "metadata": {
  "kernelspec": {
   "display_name": "Python 3 (ipykernel)",
   "language": "python",
   "name": "python3"
  },
  "language_info": {
   "codemirror_mode": {
    "name": "ipython",
    "version": 3
   },
   "file_extension": ".py",
   "mimetype": "text/x-python",
   "name": "python",
   "nbconvert_exporter": "python",
   "pygments_lexer": "ipython3",
   "version": "3.11.4"
  }
 },
 "nbformat": 4,
 "nbformat_minor": 5
}
