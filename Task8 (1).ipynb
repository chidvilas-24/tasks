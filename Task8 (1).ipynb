{
 "cells": [
  {
   "cell_type": "markdown",
   "id": "21c2b7b2",
   "metadata": {},
   "source": [
    "\n",
    "**Task 1: Basic If-Else Statements**\n",
    "Write a Python program that takes an `integer as input` from the user and prints whether it is `multiple of 3 or not` using if-else statements.\n",
    "\n",
    "**Task 2: Nested If Statements**\n",
    "Create a program that `asks the user` for their `age` and `nationality`. Depending on their age and nationality, display a different message using nested if statements. For example, if they are under 18 and from the USA, display `\"You are a minor from the USA.\"`\n",
    "\n",
    "**Task 3: Grade Calculator**\n",
    "Write a program that takes a student's score as input and converts it to a letter grade (A, B, C, D, or F) using if-elif-else statements. Use the following grading scale:\n",
    "- A: 90-100\n",
    "- B: 80-89\n",
    "- C: 70-79\n",
    "- D: 60-69\n",
    "- F: Below 60\n",
    "\n",
    "**Task 4: Leap Year Checker**\n",
    "Create a Python program that checks if a given year is a leap year or not. Use conditional statements to determine whether the year is divisible by 4, 100, and 400 to decide if it's a leap year.\n",
    "\n",
    "**Task 5: BMI Calculator**\n",
    "Write a program that calculates a person's Body Mass Index (BMI) based on their height and weight. Then, use conditional statements to categorize the BMI as Underweight, Normal, Overweight, or Obese. Provide guidance on the healthy range for BMI.(use BMI Formula)\n",
    "\n",
    "**Task 6: Calculator with Menu**\n",
    "Build a simple calculator program that provides a menu with options for addition, subtraction, multiplication, and division. `Take user input for two numbers`and an `operation choice`. Use conditional statements to perform the selected operation and display the result.\n",
    "\n",
    "**Task 7: Temperature Converter**\n",
    "Write a program that `converts temperatures between Celsius and Fahrenhei`t. Allow the user to `choose` the conversion direction and input the temperature value. Use conditional statements to perform the conversion based on the `user's choice`.(Do with conversion formula)\n"
   ]
  },
  {
   "cell_type": "markdown",
   "id": "689b155e",
   "metadata": {},
   "source": [
    "Task 1: Basic If-Else Statements Write a Python program that takes an integer as input from the user and prints whether it is multiple of 3 or not using if-else statements."
   ]
  },
  {
   "cell_type": "code",
   "execution_count": 3,
   "id": "f580ddfa",
   "metadata": {},
   "outputs": [
    {
     "name": "stdout",
     "output_type": "stream",
     "text": [
      "enter a number:  9\n",
      "the given number is a multiple of 3 \n"
     ]
    }
   ],
   "source": [
    "num=int(input(\"enter a number:  \"))\n",
    "if (num%3 == 0):\n",
    "    print(\"the given number is a multiple of 3 \")\n",
    "else:\n",
    "    print(\"the given number is not multiple of 3 \")"
   ]
  },
  {
   "cell_type": "markdown",
   "id": "be6245d2",
   "metadata": {},
   "source": [
    "Task 2: Nested If Statements Create a program that asks the user for their age and nationality. Depending on their age and nationality, display a different message using nested if statements. For example, if they are under 18 and from the USA, display \"You are a minor from the USA.\""
   ]
  },
  {
   "cell_type": "code",
   "execution_count": 3,
   "id": "24659320",
   "metadata": {},
   "outputs": [
    {
     "name": "stdout",
     "output_type": "stream",
     "text": [
      "enter your age:  17\n",
      "enter your nationality:  usa\n",
      "you are a minor from usa\n"
     ]
    }
   ],
   "source": [
    "age = int(input(\"enter your age:  \"))\n",
    "nationality = input(\"enter your nationality:  \")\n",
    "if age<18 and age>0:\n",
    "    print(f\"you are a minor from {nationality}\")\n",
    "    if age>=18 :\n",
    "        print(f\"you are a major from {nationality}\")\n",
    "else:\n",
    "    print(\"enter a valid age\")\n",
    "   "
   ]
  },
  {
   "cell_type": "markdown",
   "id": "e167283c",
   "metadata": {},
   "source": [
    "Task 3: Grade Calculator Write a program that takes a student's score as input and converts it to a letter grade (A, B, C, D, or F) using if-elif-else statements. Use the following grading scale:\n",
    "\n",
    "A: 90-100\n",
    "B: 80-89\n",
    "C: 70-79\n",
    "D: 60-69\n",
    "F: Below 60"
   ]
  },
  {
   "cell_type": "code",
   "execution_count": 8,
   "id": "a4853d69",
   "metadata": {},
   "outputs": [
    {
     "name": "stdout",
     "output_type": "stream",
     "text": [
      "enter the marks of the student:  44\n",
      "fail\n"
     ]
    }
   ],
   "source": [
    "marks= int(input(\"enter the marks of the student:  \"))\n",
    "if(marks<=100)and(marks>=90):\n",
    "    print(\"A grade\")\n",
    "elif(marks<=89)and(marks>=80):\n",
    "    print(\"B grade\")\n",
    "elif(marks<=79)and(marks>=70):\n",
    "    print(\"C grade\")\n",
    "elif(marks<=69)and(marks>=60):\n",
    "    print(\"D grade\")\n",
    "elif(marks>100)or(marks<=0):\n",
    "    print(\"enter valid marks\")\n",
    "else:\n",
    "    print(\"fail\")"
   ]
  },
  {
   "cell_type": "markdown",
   "id": "e9e55006",
   "metadata": {},
   "source": [
    "Task 4: Leap Year Checker Create a Python program that checks if a given year is a leap year or not. Use conditional statements to determine whether the year is divisible by 4, 100, and 400 to decide if it's a leap year."
   ]
  },
  {
   "cell_type": "code",
   "execution_count": 9,
   "id": "cdeae425",
   "metadata": {},
   "outputs": [
    {
     "name": "stdout",
     "output_type": "stream",
     "text": [
      "enter any year: 2005\n",
      "not leap year\n"
     ]
    }
   ],
   "source": [
    "year=int(input(\"enter any year: \"))\n",
    "if(year%4 == 0 and year % 100 !=0 or (year % 400 ==0)):\n",
    "    print(\"leap year\")\n",
    "else:\n",
    "    print(\"not leap year\")"
   ]
  },
  {
   "cell_type": "markdown",
   "id": "5c0a77a6",
   "metadata": {},
   "source": [
    "Task 5: BMI Calculator Write a program that calculates a person's Body Mass Index (BMI) based on their height and weight. Then, use conditional statements to categorize the BMI as Underweight, Normal, Overweight, or Obese. Provide guidance on the healthy range for BMI.(use BMI Formula)"
   ]
  },
  {
   "cell_type": "code",
   "execution_count": 8,
   "id": "d568e44c",
   "metadata": {},
   "outputs": [
    {
     "name": "stdout",
     "output_type": "stream",
     "text": [
      "enter your height in feet:  5.11\n",
      "enter your weight in kilo grams:  57\n",
      "normal weight\n"
     ]
    }
   ],
   "source": [
    "height=float(input(\"enter your height in feet:  \"))\n",
    "height_in_meters=height* 0.3048   #the formula converts height in feet to meters\n",
    "weight=float(input(\"enter your weight in kilo grams:  \"))\n",
    "BMI=(weight/(height_in_meters**2))\n",
    "if(BMI<18.5)and (BMI>=0):\n",
    "    print(\"under weight\")\n",
    "    \n",
    "elif(BMI>=18.5)and (BMI<=24.9):\n",
    "    print(\"normal weight\")\n",
    "    \n",
    "elif(BMI>24.9)and (BMI<=29.9):\n",
    "    print(\"over weight\")\n",
    "    \n",
    "elif(BMI>29.9):\n",
    "    print(\"obese\")\n",
    "    \n",
    "else:\n",
    "    print(\"enter valid height and weight\")"
   ]
  },
  {
   "cell_type": "markdown",
   "id": "799bc666",
   "metadata": {},
   "source": [
    "Task 6: Calculator with Menu Build a simple calculator program that provides a menu with options for addition, subtraction, multiplication, and division. Take user input for two numbersand an operation choice. Use conditional statements to perform the selected operation and display the result."
   ]
  },
  {
   "cell_type": "code",
   "execution_count": 3,
   "id": "c37187a4",
   "metadata": {},
   "outputs": [
    {
     "name": "stdout",
     "output_type": "stream",
     "text": [
      "enter first number:  6\n",
      "enter second number:  34\n",
      "choose an operation-+, -, *, and /+\n",
      "result== 40\n"
     ]
    }
   ],
   "source": [
    "num1=int(input(\"enter first number:  \"))\n",
    "num2=int(input(\"enter second number:  \"))\n",
    "ope=input(\"choose an operation-+, -, *, and /\")\n",
    "if ope == '+':\n",
    "    add=num1 + num2\n",
    "    print(\"result==\",add)\n",
    "elif ope == '-':\n",
    "    sub=num1 - num2\n",
    "    print(\"result==\",sub)\n",
    "elif ope == '*':\n",
    "    mul=num1 * num2\n",
    "    print(\"result==\",mul)\n",
    "elif ope == \"/\":\n",
    "    div=num1 / num2\n",
    "    print(\"result==\",div)\n",
    "else:\n",
    "    print(\"invalid\")"
   ]
  },
  {
   "cell_type": "markdown",
   "id": "273f28c7",
   "metadata": {},
   "source": [
    "Task 7: Temperature Converter Write a program that converts temperatures between Celsius and Fahrenheit. Allow the user to choose the conversion direction and input the temperature value. Use conditional statements to perform the conversion based on the user's choice.(Do with conversion formula)"
   ]
  },
  {
   "cell_type": "code",
   "execution_count": 7,
   "id": "581071a3",
   "metadata": {},
   "outputs": [
    {
     "name": "stdout",
     "output_type": "stream",
     "text": [
      "enter temperature:  35\n",
      "enter a conversion:  Fahrenheit\n",
      "Fahrenheit 95.0\n"
     ]
    }
   ],
   "source": [
    "temp=float(input(\"enter temperature:  \"))\n",
    "conversion=input(\"enter a conversion:  \")\n",
    "if conversion=='celsius':\n",
    "    celsius=(temp-32)/1.8\n",
    "    print(\"celsius\",celsius)\n",
    "elif conversion==\"Fahrenheit\":\n",
    "    Fahrenheit = temp *1.8 + 32\n",
    "    print(\"Fahrenheit\",Fahrenheit)\n",
    "else:\n",
    "    print(\"enter a valid temperature\")"
   ]
  }
 ],
 "metadata": {
  "kernelspec": {
   "display_name": "Python 3 (ipykernel)",
   "language": "python",
   "name": "python3"
  },
  "language_info": {
   "codemirror_mode": {
    "name": "ipython",
    "version": 3
   },
   "file_extension": ".py",
   "mimetype": "text/x-python",
   "name": "python",
   "nbconvert_exporter": "python",
   "pygments_lexer": "ipython3",
   "version": "3.11.4"
  }
 },
 "nbformat": 4,
 "nbformat_minor": 5
}
