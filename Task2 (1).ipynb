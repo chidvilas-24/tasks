{
 "cells": [
  {
   "cell_type": "markdown",
   "id": "b8536ea7",
   "metadata": {},
   "source": [
    "* Write a program that calculates the `sum, difference, product, and quotient` of two numbers: 10 and 5.\n",
    "\n",
    "* Create a program that calculates the `area of a circle` with a radius of 4.5 units."
   ]
  },
  {
   "cell_type": "markdown",
   "id": "3f81b9d8",
   "metadata": {},
   "source": [
    "*  Write a program that `swaps` the values of two variables: x with a value of 5 and \"y\" with a value of 10.\n",
    "* Create a program that calculates `compound interest` for a principal amount of $1000, an interest rate of 5%, and a time period of 3 years."
   ]
  },
  {
   "cell_type": "markdown",
   "id": "768483d0",
   "metadata": {},
   "source": [
    "* Write a program that `compares` two numbers: 7 and 12, and determines whether the first number is greater than, less than, or equal to the second number.\n",
    "* Create a program that `checks` if a person of age 18 is eligible to vote based on the voting age requirement.(True/False)"
   ]
  },
  {
   "cell_type": "markdown",
   "id": "7881a204",
   "metadata": {},
   "source": [
    "* Create a program that `swaps` the values of two integers: `a` with a value of 10 and `b` with a value of 20 using\n",
    " *  bitwise XOR (^) operator.\n",
    " * Logical AND\n",
    " * Logical OR\n",
    " * Logical NOT"
   ]
  },
  {
   "cell_type": "markdown",
   "id": "1844e65c",
   "metadata": {},
   "source": [
    "*  Create a Python program that calculates the `area of a rectangle`. Prompt the `user to enter` the length and width of the rectangle, `store them` in variables, and compute the area using the formula:area length width.Finally, `print the calculated area.\n",
    "\n",
    "* Create a Python program that calculates the `average` of three exam scores. Prompt the user to enter the scores, `store them` in variables, calculate the average, and print the result.\n",
    "\n",
    "* Write a Python program that `converts` temperature from Celsius to Fahrenheit. Prompt the user to enter a temperature in Celsius, store it in a variable, and convert it to Fahrenheit using the formula: `Fahrenheit = (Celsius* 9/5)+32`, and print the converted temperature.\n",
    "\n",
    "* What are the `logical operators` in Python? Explain `each one` with an example.\n",
    "\n",
    "* What are the `membership` operators in Python? Explain their usage with examples\n",
    "\n",
    "* List and briefly explain the `basic data types` available in Python.\n",
    "\n",
    "* Write a Python code snippet that `assigns a value to a variable `and determines its `data type` using the type() function."
   ]
  },
  {
   "cell_type": "markdown",
   "id": "95ed62b5",
   "metadata": {},
   "source": [
    "Assignment: Basic Python Operators\n",
    "\n",
    "**Task 1: Arithmetic Operators**\n",
    "1. Write a Python program that takes two user-input numbers and displays their sum using the addition operator.\n",
    "2. Create a program to calculate the area of a rectangle. Prompt the user for the length and width, then use multiplication to find the area.\n",
    "3. Implement a program that converts temperature from Celsius to Fahrenheit using the formula: Fahrenheit = (Celsius * 9/5) + 32.\n",
    "\n",
    "**Task 2: Comparison Operators**\n",
    "1. Write a program that compares two user-input numbers and prints whether the first number is greater than the second number or not.\n",
    "2. Create a program that determines whether a user-input year is a leap year or not. A leap year is divisible by 4 and not divisible by 100, unless it is also divisible by 400.\n",
    "3. Implement a simple guessing game. Generate a random number between 1 and 100 and have the user guess the number. Provide feedback if their guess is too high or too low, and let them know when they've guessed correctly.\n",
    "\n",
    "**Task 3: Logical Operators**\n",
    "1. Write a program that checks whether a user-input number is positive and even using logical AND (`and`) operator.\n",
    "2. Create a login system where you define a correct username and password. Ask the user for their input and compare it with the correct credentials using logical OR (`or`) operator. Provide access if either the username or password is correct.\n",
    "3. Implement a program that determines whether a given year is a leap year and divisible by 7 using logical NOT (`not`) operator.\n",
    "\n",
    "**Task 4: Assignment Operators**\n",
    "1. Write a program to calculate the square of a number using the exponentiation operator (`**`) and assign it back to the same variable.\n",
    "2. Create a program that keeps track of the total score in a game. Prompt the user for their latest score and update the total score using the addition assignment operator (`+=`).\n",
    "3. Implement a program to convert seconds into hours, minutes, and remaining seconds using both division and modulo operators, and then assign each value using assignment operators.\n",
    "\n",
    "**Task 5: Bitwise Operators**\n",
    "1. Write a program that performs a bitwise AND operation between two user-input numbers and displays the result.\n",
    "2. Create a program to toggle the nth bit of a given number. Ask the user for the number and the value of n, then use bitwise XOR (^) operator to toggle the bit.\n",
    "3. Implement a program to swap the values of two variables without using a temporary variable, only using bitwise XOR (^) operator.\n",
    "\n"
   ]
  },
  {
   "cell_type": "markdown",
   "id": "bcf07300",
   "metadata": {},
   "source": [
    "Write a program that calculates the sum, difference, product, and quotient of two numbers: 10 and 5"
   ]
  },
  {
   "cell_type": "code",
   "execution_count": 1,
   "id": "04ee446a",
   "metadata": {},
   "outputs": [],
   "source": [
    "x=10\n",
    "y=5\n",
    "sum = x+y\n",
    "difference = x-y\n",
    "product = x*y\n",
    "quotient = x/y"
   ]
  },
  {
   "cell_type": "code",
   "execution_count": 2,
   "id": "283f156f",
   "metadata": {},
   "outputs": [
    {
     "data": {
      "text/plain": [
       "15"
      ]
     },
     "execution_count": 2,
     "metadata": {},
     "output_type": "execute_result"
    }
   ],
   "source": [
    "sum"
   ]
  },
  {
   "cell_type": "code",
   "execution_count": 3,
   "id": "f936bf28",
   "metadata": {},
   "outputs": [
    {
     "data": {
      "text/plain": [
       "5"
      ]
     },
     "execution_count": 3,
     "metadata": {},
     "output_type": "execute_result"
    }
   ],
   "source": [
    "difference"
   ]
  },
  {
   "cell_type": "code",
   "execution_count": 4,
   "id": "b190f7c3",
   "metadata": {},
   "outputs": [
    {
     "data": {
      "text/plain": [
       "50"
      ]
     },
     "execution_count": 4,
     "metadata": {},
     "output_type": "execute_result"
    }
   ],
   "source": [
    "product"
   ]
  },
  {
   "cell_type": "code",
   "execution_count": 5,
   "id": "fe669f84",
   "metadata": {},
   "outputs": [
    {
     "data": {
      "text/plain": [
       "2.0"
      ]
     },
     "execution_count": 5,
     "metadata": {},
     "output_type": "execute_result"
    }
   ],
   "source": [
    "quotient"
   ]
  },
  {
   "cell_type": "markdown",
   "id": "38201847",
   "metadata": {},
   "source": [
    "Create a program that calculates the area of a circle with a radius of 4.5 units"
   ]
  },
  {
   "cell_type": "code",
   "execution_count": 7,
   "id": "a782505a",
   "metadata": {},
   "outputs": [],
   "source": [
    "r=4.5\n",
    "pi=3.14\n",
    "area=pi*r**2 "
   ]
  },
  {
   "cell_type": "code",
   "execution_count": 8,
   "id": "c0ca32c4",
   "metadata": {},
   "outputs": [
    {
     "data": {
      "text/plain": [
       "63.585"
      ]
     },
     "execution_count": 8,
     "metadata": {},
     "output_type": "execute_result"
    }
   ],
   "source": [
    "area"
   ]
  },
  {
   "cell_type": "markdown",
   "id": "ccb3a322",
   "metadata": {},
   "source": [
    "Write a program that swaps the values of two variables: x with a value of 5 and \"y\" with a value of 10."
   ]
  },
  {
   "cell_type": "code",
   "execution_count": 9,
   "id": "384ccc0a",
   "metadata": {},
   "outputs": [],
   "source": [
    "x=5\n",
    "y=10\n",
    "val=x\n",
    "x=y\n",
    "y=val"
   ]
  },
  {
   "cell_type": "code",
   "execution_count": 10,
   "id": "c79806f8",
   "metadata": {},
   "outputs": [
    {
     "data": {
      "text/plain": [
       "10"
      ]
     },
     "execution_count": 10,
     "metadata": {},
     "output_type": "execute_result"
    }
   ],
   "source": [
    "x"
   ]
  },
  {
   "cell_type": "code",
   "execution_count": 11,
   "id": "01fa36a0",
   "metadata": {},
   "outputs": [
    {
     "data": {
      "text/plain": [
       "5"
      ]
     },
     "execution_count": 11,
     "metadata": {},
     "output_type": "execute_result"
    }
   ],
   "source": [
    "y"
   ]
  },
  {
   "cell_type": "markdown",
   "id": "0a9844d4",
   "metadata": {},
   "source": [
    "Create a program that calculates compound interest for a principal amount of $1000, an interest rate of 5%, and a time period of 3 years."
   ]
  },
  {
   "cell_type": "code",
   "execution_count": 12,
   "id": "3f35f207",
   "metadata": {},
   "outputs": [],
   "source": [
    "x=1000\n",
    "y=50\n",
    "a=50*12\n",
    "interest=a*2"
   ]
  },
  {
   "cell_type": "code",
   "execution_count": 13,
   "id": "e91cd673",
   "metadata": {},
   "outputs": [
    {
     "data": {
      "text/plain": [
       "1200"
      ]
     },
     "execution_count": 13,
     "metadata": {},
     "output_type": "execute_result"
    }
   ],
   "source": [
    "interest"
   ]
  },
  {
   "cell_type": "markdown",
   "id": "e55e1fca",
   "metadata": {},
   "source": [
    "Write a program that compares two numbers: 7 and 12, and determines whether the first number is greater than, less than, or equal to the second number."
   ]
  },
  {
   "cell_type": "code",
   "execution_count": 14,
   "id": "0bbb7990",
   "metadata": {},
   "outputs": [
    {
     "name": "stdout",
     "output_type": "stream",
     "text": [
      "a is less than b\n"
     ]
    }
   ],
   "source": [
    "a=7\n",
    "b=12\n",
    "if a > b:\n",
    " print(\"a greater than b\")\n",
    "if a == b:\n",
    " print(\"a equal to b\")\n",
    "else:\n",
    " print(\"a is less than b\")"
   ]
  },
  {
   "cell_type": "markdown",
   "id": "92df6f0f",
   "metadata": {},
   "source": [
    "Create a program that checks if a person of age 18 is eligible to vote based on the voting age requirement.(True/False)"
   ]
  },
  {
   "cell_type": "code",
   "execution_count": 15,
   "id": "adbcb4d6",
   "metadata": {},
   "outputs": [
    {
     "name": "stdout",
     "output_type": "stream",
     "text": [
      "false\n"
     ]
    }
   ],
   "source": [
    "x=18\n",
    "if x<18:\n",
    "    print(\"true\")\n",
    "else:\n",
    "   print(\"false\")"
   ]
  },
  {
   "cell_type": "markdown",
   "id": "e9672e9d",
   "metadata": {},
   "source": [
    "Create a program that swaps the values of two integers: a with a value of 10 and b with a value of 20 using\n",
    "bitwise XOR (^) operator.\n",
    "Logical AND\n",
    "Logical OR\n",
    "Logical NOT"
   ]
  },
  {
   "cell_type": "code",
   "execution_count": 16,
   "id": "eac5c517",
   "metadata": {},
   "outputs": [
    {
     "name": "stdout",
     "output_type": "stream",
     "text": [
      "20\n",
      "10\n"
     ]
    }
   ],
   "source": [
    "a=10\n",
    "b=20\n",
    "a=a^b\n",
    "b=a^b\n",
    "a=a^b\n",
    "print(a)\n",
    "print(b)"
   ]
  },
  {
   "cell_type": "code",
   "execution_count": 17,
   "id": "e8b628cf",
   "metadata": {},
   "outputs": [
    {
     "data": {
      "text/plain": [
       "20"
      ]
     },
     "execution_count": 17,
     "metadata": {},
     "output_type": "execute_result"
    }
   ],
   "source": [
    "a=10\n",
    "b=20\n",
    "a and b"
   ]
  },
  {
   "cell_type": "code",
   "execution_count": 18,
   "id": "bff9a9a2",
   "metadata": {},
   "outputs": [
    {
     "data": {
      "text/plain": [
       "10"
      ]
     },
     "execution_count": 18,
     "metadata": {},
     "output_type": "execute_result"
    }
   ],
   "source": [
    "a=10\n",
    "b=20\n",
    "a or b"
   ]
  },
  {
   "cell_type": "markdown",
   "id": "e41d5d2b",
   "metadata": {},
   "source": [
    "Create a Python program that calculates the area of a rectangle. Prompt the user to enter the length and width of the rectangle, store them in variables, and compute the area using the formula:area length width.Finally, `print the calculated area."
   ]
  },
  {
   "cell_type": "code",
   "execution_count": 21,
   "id": "df5128d6",
   "metadata": {},
   "outputs": [
    {
     "name": "stdout",
     "output_type": "stream",
     "text": [
      "enter length:5\n",
      "enter breadth:3\n",
      "area: 15\n"
     ]
    }
   ],
   "source": [
    "l=int(input('enter length:'))\n",
    "b=int(input('enter breadth:'))\n",
    "area=l*b\n",
    "print(\"area:\",area)"
   ]
  },
  {
   "cell_type": "markdown",
   "id": "13c59c52",
   "metadata": {},
   "source": [
    "Create a Python program that calculates the average of three exam scores. Prompt the user to enter the scores, store them in variables, calculate the average, and print the result."
   ]
  },
  {
   "cell_type": "code",
   "execution_count": 23,
   "id": "89d05570",
   "metadata": {},
   "outputs": [
    {
     "name": "stdout",
     "output_type": "stream",
     "text": [
      "enter score-1:77\n",
      "enter score-2:90\n",
      "enter score-3:88\n",
      "85.0\n"
     ]
    }
   ],
   "source": [
    "sc1=float(input('enter score-1:'))\n",
    "sc2=float(input('enter score-2:'))\n",
    "sc3=float(input('enter score-3:'))\n",
    "tot=sc1+sc2+sc3\n",
    "average=tot/3\n",
    "print(average)"
   ]
  },
  {
   "cell_type": "markdown",
   "id": "ebaf650c",
   "metadata": {},
   "source": [
    "Write a Python program that converts temperature from Celsius to Fahrenheit. Prompt the user to enter a temperature in Celsius, store it in a variable, and convert it to Fahrenheit using the formula: Fahrenheit = (Celsius* 9/5)+32, and print the converted temperature."
   ]
  },
  {
   "cell_type": "code",
   "execution_count": 24,
   "id": "72f9ac32",
   "metadata": {},
   "outputs": [
    {
     "name": "stdout",
     "output_type": "stream",
     "text": [
      "enter the celsius:70\n",
      "158.0\n"
     ]
    }
   ],
   "source": [
    "celcius=float(input('enter the celsius:'))\n",
    "fahrenheit=(celcius*9/5)+32\n",
    "print(fahrenheit)"
   ]
  },
  {
   "cell_type": "markdown",
   "id": "d5a34397",
   "metadata": {},
   "source": [
    "What are the logical operators in Python? Explain each one with an example."
   ]
  },
  {
   "cell_type": "markdown",
   "id": "0c9179ac",
   "metadata": {},
   "source": [
    "there are three logical operators in python\n",
    "1. and\n",
    "2. or\n",
    "3. not\n",
    "\n",
    "1. and\n",
    "if all operands are true then it is true if not it is false\n",
    "2. or\n",
    "if all operands are false then only it is false.\n",
    "if atleast one operand is true then it is true\n",
    "3. not\n",
    "it returns true if operand is false\n",
    "it returns false if operand is true"
   ]
  },
  {
   "cell_type": "code",
   "execution_count": 25,
   "id": "b069d5a0",
   "metadata": {},
   "outputs": [],
   "source": [
    "a=10\n",
    "b=15\n",
    "c=25"
   ]
  },
  {
   "cell_type": "code",
   "execution_count": 29,
   "id": "3e2da927",
   "metadata": {},
   "outputs": [
    {
     "data": {
      "text/plain": [
       "False"
      ]
     },
     "execution_count": 29,
     "metadata": {},
     "output_type": "execute_result"
    }
   ],
   "source": [
    "(a>=b)and(b<=25)     #example for and operator"
   ]
  },
  {
   "cell_type": "code",
   "execution_count": 30,
   "id": "01d3f72d",
   "metadata": {},
   "outputs": [
    {
     "data": {
      "text/plain": [
       "True"
      ]
     },
     "execution_count": 30,
     "metadata": {},
     "output_type": "execute_result"
    }
   ],
   "source": [
    "(a<=c)or(b>=c)        #example for or operator"
   ]
  },
  {
   "cell_type": "code",
   "execution_count": 31,
   "id": "a18ece86",
   "metadata": {},
   "outputs": [
    {
     "data": {
      "text/plain": [
       "True"
      ]
     },
     "execution_count": 31,
     "metadata": {},
     "output_type": "execute_result"
    }
   ],
   "source": [
    "not(a>=b)             #example for not operator"
   ]
  },
  {
   "cell_type": "markdown",
   "id": "5ba986d7",
   "metadata": {},
   "source": [
    "What are the membership operators in Python? Explain their usage with examples"
   ]
  },
  {
   "cell_type": "markdown",
   "id": "98dd2839",
   "metadata": {},
   "source": [
    "membership operators are 2 types\n",
    "1. in--it is true when the elements is present \n",
    "2. not in--it is true when the element is not present"
   ]
  },
  {
   "cell_type": "code",
   "execution_count": 32,
   "id": "cd573d72",
   "metadata": {},
   "outputs": [],
   "source": [
    "x=\"innomatics research labs\"\n",
    "y=\"research\"\n"
   ]
  },
  {
   "cell_type": "code",
   "execution_count": 33,
   "id": "96d430c2",
   "metadata": {},
   "outputs": [
    {
     "data": {
      "text/plain": [
       "True"
      ]
     },
     "execution_count": 33,
     "metadata": {},
     "output_type": "execute_result"
    }
   ],
   "source": [
    "y in x"
   ]
  },
  {
   "cell_type": "code",
   "execution_count": 35,
   "id": "090a048c",
   "metadata": {},
   "outputs": [
    {
     "data": {
      "text/plain": [
       "True"
      ]
     },
     "execution_count": 35,
     "metadata": {},
     "output_type": "execute_result"
    }
   ],
   "source": [
    "x not in y"
   ]
  },
  {
   "cell_type": "markdown",
   "id": "aa181292",
   "metadata": {},
   "source": [
    "List and briefly explain the basic data types available in Python."
   ]
  },
  {
   "cell_type": "markdown",
   "id": "abee0086",
   "metadata": {},
   "source": [
    "1. int- all positive or negative whole numbers comes under integer\n",
    "2. float- all decimals comes under float\n",
    "3. complex- these are nothing but the data types which are in the form of (10+30j)\n",
    "4. boolean- these only represent true/false\n",
    "5. string-any information which is represented in between \"\"/''/''' ''', are known as string\n",
    "6. list- any information which is represented in between--[] is known as list\n",
    "7. tuple\n",
    "8. set\n",
    "9. dictionary"
   ]
  },
  {
   "cell_type": "markdown",
   "id": "93670b9d",
   "metadata": {},
   "source": [
    "Write a Python code snippet that assigns a value to a variable and determines its data type using the type() function."
   ]
  },
  {
   "cell_type": "code",
   "execution_count": 39,
   "id": "a5491ed5",
   "metadata": {},
   "outputs": [
    {
     "data": {
      "text/plain": [
       "str"
      ]
     },
     "execution_count": 39,
     "metadata": {},
     "output_type": "execute_result"
    }
   ],
   "source": [
    "i=\"batman\"\n",
    "type(i)"
   ]
  },
  {
   "cell_type": "markdown",
   "id": "70deb158",
   "metadata": {},
   "source": [
    "Write a Python program that takes two user-input numbers and displays their sum using the addition operator."
   ]
  },
  {
   "cell_type": "code",
   "execution_count": 41,
   "id": "8c3c690c",
   "metadata": {},
   "outputs": [
    {
     "name": "stdout",
     "output_type": "stream",
     "text": [
      "enter num-1: 6\n",
      "enter num-2: 8\n",
      "the sum is 14\n"
     ]
    }
   ],
   "source": [
    "a=int(input(\"enter num-1: \"))\n",
    "b=int(input(\"enter num-2: \"))\n",
    "c=a+b\n",
    "print(\"the sum is\",c)"
   ]
  },
  {
   "cell_type": "markdown",
   "id": "ef0bd034",
   "metadata": {},
   "source": [
    "Create a program to calculate the area of a rectangle. Prompt the user for the length and width, then use multiplication to find the area."
   ]
  },
  {
   "cell_type": "code",
   "execution_count": 43,
   "id": "746699cd",
   "metadata": {},
   "outputs": [
    {
     "name": "stdout",
     "output_type": "stream",
     "text": [
      "enter length: 5\n",
      "enter width: 3\n",
      "15\n"
     ]
    }
   ],
   "source": [
    "length=int(input(\"enter length: \"))\n",
    "width=int(input(\"enter width: \"))\n",
    "area=length*width\n",
    "print(area)"
   ]
  },
  {
   "cell_type": "markdown",
   "id": "4d0b721c",
   "metadata": {},
   "source": [
    "Implement a program that converts temperature from Celsius to Fahrenheit using the formula: Fahrenheit = (Celsius * 9/5) + 32."
   ]
  },
  {
   "cell_type": "code",
   "execution_count": 45,
   "id": "4bcda25b",
   "metadata": {},
   "outputs": [
    {
     "name": "stdout",
     "output_type": "stream",
     "text": [
      "enter the celsius value: 45\n",
      "113.0\n"
     ]
    }
   ],
   "source": [
    "celsius=float(input(\"enter the celsius value: \"))\n",
    "fahrenheit=(celsius*9/5)+32\n",
    "print(fahrenheit)"
   ]
  },
  {
   "cell_type": "markdown",
   "id": "fda79225",
   "metadata": {},
   "source": [
    "Write a program that compares two user-input numbers and prints whether the first number is greater than the second number or not."
   ]
  },
  {
   "cell_type": "code",
   "execution_count": 52,
   "id": "2e96284f",
   "metadata": {},
   "outputs": [
    {
     "name": "stdout",
     "output_type": "stream",
     "text": [
      "enter num-1: 5\n",
      "enter num-2: 7\n",
      "b is greater\n"
     ]
    }
   ],
   "source": [
    "a=int(input(\"enter num-1: \"))\n",
    "b=int(input(\"enter num-2: \"))\n",
    "if a>b: \n",
    "  print(\"a is greater\")\n",
    "if a<b:\n",
    "   print(\"b is greater\")\n",
    "else:\n",
    "    print(\"both are equal\")"
   ]
  },
  {
   "cell_type": "markdown",
   "id": "166d3f79",
   "metadata": {},
   "source": [
    "Create a program that determines whether a user-input year is a leap year or not. A leap year is divisible by 4 and not divisible by 100, unless it is also divisible by 400."
   ]
  },
  {
   "cell_type": "code",
   "execution_count": 57,
   "id": "06e8c56e",
   "metadata": {},
   "outputs": [
    {
     "name": "stdout",
     "output_type": "stream",
     "text": [
      "enter the year2001\n",
      "not a leap year\n"
     ]
    }
   ],
   "source": [
    "year=int(input(\"enter the year\"))\n",
    "if (year%4==0 and year%100 !=0) or (year%400 ==0):\n",
    " print(\"it is a leap year\")\n",
    "else:\n",
    " print(\"not a leap year\")\n"
   ]
  },
  {
   "cell_type": "markdown",
   "id": "fd1cd416",
   "metadata": {},
   "source": [
    "Write a program that checks whether a user-input number is positive and even using logical AND (and) operator."
   ]
  },
  {
   "cell_type": "code",
   "execution_count": 60,
   "id": "0b236b6a",
   "metadata": {},
   "outputs": [
    {
     "name": "stdout",
     "output_type": "stream",
     "text": [
      "enter the number: 12\n",
      "it is even and positive\n"
     ]
    }
   ],
   "source": [
    "num=int(input(\"enter the number: \"))\n",
    "if(num%2==0 and num>0):\n",
    " print(\"it is even and positive\")\n",
    "else:\n",
    " print(\"number is not even\")"
   ]
  },
  {
   "cell_type": "markdown",
   "id": "6edfe739",
   "metadata": {},
   "source": [
    "Create a login system where you define a correct username and password. Ask the user for their input and compare it with the correct credentials using logical OR (or) operator. Provide access if either the username or password is correct."
   ]
  },
  {
   "cell_type": "code",
   "execution_count": 74,
   "id": "d82f9fa8",
   "metadata": {},
   "outputs": [
    {
     "name": "stdout",
     "output_type": "stream",
     "text": [
      "enter username: chidvilas\n",
      "enter password: koppaka\n",
      "access allowed\n"
     ]
    }
   ],
   "source": [
    "userid=\"chidvilas\"\n",
    "password=\"koppaka\"\n",
    "username=input(\"enter username: \")\n",
    "pass1=input(\"enter password: \")\n",
    "if(userid==username or password==pass1):\n",
    " print(\"access allowed\")\n",
    "else:\n",
    "    print(\"access denied\")"
   ]
  },
  {
   "cell_type": "markdown",
   "id": "19c0f233",
   "metadata": {},
   "source": [
    "Write a program to calculate the square of a number using the exponentiation operator (**) and assign it back to the same variable."
   ]
  },
  {
   "cell_type": "code",
   "execution_count": 77,
   "id": "30a41b7d",
   "metadata": {},
   "outputs": [
    {
     "name": "stdout",
     "output_type": "stream",
     "text": [
      "enter a number8\n",
      "a 64\n"
     ]
    }
   ],
   "source": [
    "x=int(input(\"enter a number\"))\n",
    "a=x**2\n",
    "print('a',a)"
   ]
  },
  {
   "cell_type": "markdown",
   "id": "d27bf768",
   "metadata": {},
   "source": [
    "Write a program that performs a bitwise AND operation between two user-input numbers and displays the result."
   ]
  },
  {
   "cell_type": "code",
   "execution_count": 81,
   "id": "df831d4c",
   "metadata": {},
   "outputs": [
    {
     "name": "stdout",
     "output_type": "stream",
     "text": [
      "enter 1st number:  25\n",
      "enter 2nd number:  13\n",
      "9\n"
     ]
    }
   ],
   "source": [
    "a=int(input(\"enter 1st number:  \"))\n",
    "b=int(input(\"enter 2nd number:  \"))\n",
    "c=a&b\n",
    "print(c)\n"
   ]
  },
  {
   "cell_type": "code",
   "execution_count": null,
   "id": "caa36024",
   "metadata": {},
   "outputs": [],
   "source": []
  }
 ],
 "metadata": {
  "kernelspec": {
   "display_name": "Python 3 (ipykernel)",
   "language": "python",
   "name": "python3"
  },
  "language_info": {
   "codemirror_mode": {
    "name": "ipython",
    "version": 3
   },
   "file_extension": ".py",
   "mimetype": "text/x-python",
   "name": "python",
   "nbconvert_exporter": "python",
   "pygments_lexer": "ipython3",
   "version": "3.11.4"
  }
 },
 "nbformat": 4,
 "nbformat_minor": 5
}
