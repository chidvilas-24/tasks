{
 "cells": [
  {
   "cell_type": "markdown",
   "id": "8dc8a778",
   "metadata": {},
   "source": [
    "\n",
    "`use context manager`\n",
    "\n",
    "**Create a file**\n",
    "Write a Python program that creates a text file named \"data.txt\" and add data about python programming (should contain at least 5 lines)\n",
    "\n",
    "**Read and Display File Contents**\n",
    "Write a Python program that reads a text file named \"data.txt\" and displays its contents on the screen.\n",
    "\n",
    "**Count Words in a File**\n",
    "Write a Python program that reads a text file named \"data.txt\" and counts the total number of words in the file. Display the word count on the screen.\n",
    "\n",
    "**Search and Replace**\n",
    "Create a Python program that reads a text file named \"data.txt\" and asks the user to enter a word to search for. If the word is found in the file, replace all occurrences of the word with a new word provided by the user.\n",
    "\n",
    "**Append to a File**\n",
    "Write a Python program that prompts the user to enter a sentence. Append this sentence to an existing file named \"notes.txt\". Make sure the newly added sentence starts on a new line.\n",
    "\n",
    "\n"
   ]
  },
  {
   "cell_type": "markdown",
   "id": "1f89aefc",
   "metadata": {},
   "source": [
    "**Create a file**\n",
    "Write a Python program that creates a text file named \"data.txt\" and add data about python programming (should contain at least 5 lines)"
   ]
  },
  {
   "cell_type": "code",
   "execution_count": 18,
   "id": "19c2ecaa",
   "metadata": {},
   "outputs": [],
   "source": [
    "f=open(\"data.txt\",'w+')"
   ]
  },
  {
   "cell_type": "code",
   "execution_count": 19,
   "id": "3e87dc96",
   "metadata": {},
   "outputs": [
    {
     "data": {
      "text/plain": [
       "410"
      ]
     },
     "execution_count": 19,
     "metadata": {},
     "output_type": "execute_result"
    }
   ],
   "source": [
    "f.write(\"Python is a widely used general-purpose, high level programming language. It was created by Guido van Rossum in 1991 and further developed by the Python Software Foundation. It was designed with an emphasis on code readability, and its syntax allows programmers to express their concepts in fewer lines of code.Python is a programming language that lets you work quickly and integrate systems more efficiently.\")"
   ]
  },
  {
   "cell_type": "markdown",
   "id": "2b1b29ec",
   "metadata": {},
   "source": [
    "**Read and Display File Contents**\n",
    "Write a Python program that reads a text file named \"data.txt\" and displays its contents on the screen."
   ]
  },
  {
   "cell_type": "code",
   "execution_count": 20,
   "id": "1251a4fd",
   "metadata": {},
   "outputs": [
    {
     "data": {
      "text/plain": [
       "'Python is a widely used general-purpose, high level programming language. It was created by Guido van Rossum in 1991 and further developed by the Python Software Foundation. It was designed with an emphasis on code readability, and its syntax allows programmers to express their concepts in fewer lines of code.Python is a programming language that lets you work quickly and integrate systems more efficiently.'"
      ]
     },
     "execution_count": 20,
     "metadata": {},
     "output_type": "execute_result"
    }
   ],
   "source": [
    "f.seek(0)\n",
    "f.read()"
   ]
  },
  {
   "cell_type": "markdown",
   "id": "388e0f66",
   "metadata": {},
   "source": [
    "**Count Words in a File**\n",
    "Write a Python program that reads a text file named \"data.txt\" and counts the total number of words in the file. Display the word count on the screen."
   ]
  },
  {
   "cell_type": "code",
   "execution_count": 21,
   "id": "67020de6",
   "metadata": {},
   "outputs": [],
   "source": [
    "f=open(\"data.txt\")\n",
    "string=f.read()\n",
    "a=string.split()"
   ]
  },
  {
   "cell_type": "code",
   "execution_count": 22,
   "id": "506eb9a6",
   "metadata": {},
   "outputs": [
    {
     "name": "stdout",
     "output_type": "stream",
     "text": [
      "['Python', 'is', 'a', 'widely', 'used', 'general-purpose,', 'high', 'level', 'programming', 'language.', 'It', 'was', 'created', 'by', 'Guido', 'van', 'Rossum', 'in', '1991', 'and', 'further', 'developed', 'by', 'the', 'Python', 'Software', 'Foundation.', 'It', 'was', 'designed', 'with', 'an', 'emphasis', 'on', 'code', 'readability,', 'and', 'its', 'syntax', 'allows', 'programmers', 'to', 'express', 'their', 'concepts', 'in', 'fewer', 'lines', 'of', 'code.Python', 'is', 'a', 'programming', 'language', 'that', 'lets', 'you', 'work', 'quickly', 'and', 'integrate', 'systems', 'more', 'efficiently.']\n"
     ]
    }
   ],
   "source": [
    "print(a)"
   ]
  },
  {
   "cell_type": "code",
   "execution_count": 23,
   "id": "baaa1484",
   "metadata": {},
   "outputs": [
    {
     "data": {
      "text/plain": [
       "64"
      ]
     },
     "execution_count": 23,
     "metadata": {},
     "output_type": "execute_result"
    }
   ],
   "source": [
    "len(a)"
   ]
  },
  {
   "cell_type": "markdown",
   "id": "b1e9bfc5",
   "metadata": {},
   "source": [
    "**Search and Replace**\n",
    "Create a Python program that reads a text file named \"data.txt\" and asks the user to enter a word to search for. If the word is found in the file, replace all occurrences of the word with a new word provided by the user."
   ]
  },
  {
   "cell_type": "code",
   "execution_count": 24,
   "id": "6a373233",
   "metadata": {},
   "outputs": [
    {
     "name": "stdout",
     "output_type": "stream",
     "text": [
      "Python is a widely used general-purpose, high level programming language. It was created by Guido van Rossum in 1991 and further developed by the Python Software Foundation. It was designed with an emphasis on code readability, and its syntax allows programmers to express their concepts in fewer lines of code.Python is a programming language that lets you work quickly and integrate systems more efficiently.\n"
     ]
    }
   ],
   "source": [
    "f=open(\"data.txt\")\n",
    "string=f.read()\n",
    "print(string)"
   ]
  },
  {
   "cell_type": "code",
   "execution_count": 27,
   "id": "81f82cf0",
   "metadata": {},
   "outputs": [
    {
     "name": "stdout",
     "output_type": "stream",
     "text": [
      "enter a word:  Python\n",
      "enter a new word:  PYTHON\n",
      "PYTHON is a widely used general-purpose, high level programming language. It was created by Guido van Rossum in 1991 and further developed by the PYTHON Software Foundation. It was designed with an emphasis on code readability, and its syntax allows programmers to express their concepts in fewer lines of code.PYTHON is a programming language that lets you work quickly and integrate systems more efficiently.\n"
     ]
    }
   ],
   "source": [
    "word=input(\"enter a word:  \")\n",
    "word1=input(\"enter a new word:  \")\n",
    "if word in string:\n",
    "    print(string.replace(word,word1))"
   ]
  },
  {
   "cell_type": "markdown",
   "id": "51fb0635",
   "metadata": {},
   "source": [
    "**Append to a File**\n",
    "Write a Python program that prompts the user to enter a sentence. Append this sentence to an existing file named \"notes.txt\". Make sure the newly added sentence starts on a new line."
   ]
  },
  {
   "cell_type": "code",
   "execution_count": 36,
   "id": "a91d2cdc",
   "metadata": {},
   "outputs": [
    {
     "name": "stdout",
     "output_type": "stream",
     "text": [
      "enter your sentence:  iam completing my data science course at innomatics\n"
     ]
    }
   ],
   "source": [
    "with open(\"notes.txt\",\"a+\") as f1:\n",
    "    f1.write(\"this is chidvilas\")\n",
    "    new=input(\"enter your sentence:  \")\n",
    "    f1.write(f\"\\n{new}\")"
   ]
  },
  {
   "cell_type": "code",
   "execution_count": 37,
   "id": "53539665",
   "metadata": {},
   "outputs": [
    {
     "name": "stdout",
     "output_type": "stream",
     "text": [
      "this is chidvilas\n",
      "iam completing my data science course at innomatics\n"
     ]
    }
   ],
   "source": [
    "f1=open(\"notes.txt\")\n",
    "print(f1.read())"
   ]
  },
  {
   "cell_type": "code",
   "execution_count": null,
   "id": "c05e7b16",
   "metadata": {},
   "outputs": [],
   "source": []
  }
 ],
 "metadata": {
  "kernelspec": {
   "display_name": "Python 3 (ipykernel)",
   "language": "python",
   "name": "python3"
  },
  "language_info": {
   "codemirror_mode": {
    "name": "ipython",
    "version": 3
   },
   "file_extension": ".py",
   "mimetype": "text/x-python",
   "name": "python",
   "nbconvert_exporter": "python",
   "pygments_lexer": "ipython3",
   "version": "3.11.4"
  }
 },
 "nbformat": 4,
 "nbformat_minor": 5
}
