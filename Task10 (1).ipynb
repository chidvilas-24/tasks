{
 "cells": [
  {
   "cell_type": "markdown",
   "id": "6a089314",
   "metadata": {},
   "source": [
    "1. **Basic List Comprehension:**\n",
    "   Write a Python program that uses list comprehension to generate a list of cubes of the first 10 positive integers.\n",
    "\n",
    "2. **Filtering with List Comprehension:**\n",
    "   Given a list of integers, create a new list using list comprehension that contains only the multiple of 3 and 5 from the original list.\n",
    "\n",
    "3. **String Manipulation with List Comprehension:**\n",
    "   Given a list of strings, create a new list using list comprehension that contains the lengths of each string.\n",
    "\n",
    "\n",
    "4. **List Comprehension with Conditionals:**\n",
    "   Given a list of numbers, create a new list using list comprehension that contains the squares of even numbers \n",
    "\n",
    "\n",
    "5. **Pattern Printing**\n",
    "\n",
    "    Write a Python program that takes an integer 'n' as input and prints the following pattern:\n",
    "\n",
    "    For `n = 4`, the pattern should look like this:\n",
    "\n",
    "    ```\n",
    "    1\n",
    "    1 2\n",
    "    1 2 3\n",
    "    1 2 3 4\n",
    "    ```\n",
    "\n",
    "6. **Multiplication Table**\n",
    "\n",
    "      Create a Python program that generates and prints a multiplication table for a given number 'n'. The table should include values from 1 to 10.\n",
    "\n",
    "For example, if `n = 5`, the output should be:\n",
    "\n",
    "    ```\n",
    "    5 x 1 = 5\n",
    "    5 x 2 = 10\n",
    "    5 x 3 = 15\n",
    "    5 x 4 = 20\n",
    "    5 x 5 = 25\n",
    "    5 x 6 = 30\n",
    "    5 x 7 = 35\n",
    "    5 x 8 = 40\n",
    "    5 x 9 = 45\n",
    "    5 x 10 = 50\n",
    "    ```\n",
    "\n",
    "7. **Star Patterns**\n",
    "\n",
    "    Write a Python program that takes an integer 'n' as input and prints the following patterns:\n",
    "\n",
    "    a) Right-angled triangle pattern:\n",
    "    ```\n",
    "    *\n",
    "    **\n",
    "    ***\n",
    "    ****\n",
    "    *****\n",
    "    ```\n",
    "\n",
    "    b) Inverted right-angled triangle pattern:\n",
    "    ```\n",
    "    *****\n",
    "    ****\n",
    "    ***\n",
    "    **\n",
    "    *\n",
    "    ```\n",
    "\n",
    "\n",
    "8. **Number Pyramid**\n",
    "\n",
    "    Create a Python program that takes an integer 'n' as input and prints a number pyramid as shown below:\n",
    "\n",
    "    For `n = 4`, the output should be:\n",
    "\n",
    "    ```\n",
    "       1\n",
    "      212\n",
    "     32123\n",
    "    4321234\n",
    "    ```\n",
    "\n",
    "\n",
    "\n"
   ]
  },
  {
   "cell_type": "markdown",
   "id": "6113d75d",
   "metadata": {},
   "source": [
    "1. **Basic List Comprehension:**\n",
    "   Write a Python program that uses list comprehension to generate a list of cubes of the first 10 positive integers.\n"
   ]
  },
  {
   "cell_type": "code",
   "execution_count": 1,
   "id": "64c3ad50",
   "metadata": {},
   "outputs": [
    {
     "data": {
      "text/plain": [
       "[1, 8, 27, 64, 125, 216, 343, 512, 729, 1000]"
      ]
     },
     "execution_count": 1,
     "metadata": {},
     "output_type": "execute_result"
    }
   ],
   "source": [
    "[i**3 for i in range(1,11) ]"
   ]
  },
  {
   "cell_type": "markdown",
   "id": "e8340739",
   "metadata": {},
   "source": [
    "2. **Filtering with List Comprehension:**\n",
    "   Given a list of integers, create a new list using list comprehension that contains only the multiple of 3 and 5 from the original list."
   ]
  },
  {
   "cell_type": "code",
   "execution_count": 3,
   "id": "a788526e",
   "metadata": {},
   "outputs": [
    {
     "data": {
      "text/plain": [
       "[3,\n",
       " 5,\n",
       " 6,\n",
       " 9,\n",
       " 10,\n",
       " 12,\n",
       " 15,\n",
       " 18,\n",
       " 20,\n",
       " 21,\n",
       " 24,\n",
       " 25,\n",
       " 27,\n",
       " 30,\n",
       " 33,\n",
       " 35,\n",
       " 36,\n",
       " 39,\n",
       " 40,\n",
       " 42,\n",
       " 45,\n",
       " 48]"
      ]
     },
     "execution_count": 3,
     "metadata": {},
     "output_type": "execute_result"
    }
   ],
   "source": [
    "list1=range(1,50)\n",
    "[i for i in list1 if i%3==0 or i%5==0]"
   ]
  },
  {
   "cell_type": "markdown",
   "id": "d36664ce",
   "metadata": {},
   "source": [
    "3. **String Manipulation with List Comprehension:**\n",
    "   Given a list of strings, create a new list using list comprehension that contains the lengths of each string.`"
   ]
  },
  {
   "cell_type": "code",
   "execution_count": 4,
   "id": "7a9e2365",
   "metadata": {},
   "outputs": [],
   "source": [
    "list1=['siddu','eeshanth','lohith','shankar']"
   ]
  },
  {
   "cell_type": "code",
   "execution_count": 5,
   "id": "ae6d4dd6",
   "metadata": {},
   "outputs": [
    {
     "data": {
      "text/plain": [
       "[5, 8, 6, 7]"
      ]
     },
     "execution_count": 5,
     "metadata": {},
     "output_type": "execute_result"
    }
   ],
   "source": [
    "[len(i) for i in list1]"
   ]
  },
  {
   "cell_type": "markdown",
   "id": "57305feb",
   "metadata": {},
   "source": [
    "4. **List Comprehension with Conditionals:**\n",
    "   Given a list of numbers, create a new list using list comprehension that contains the squares of even numbers "
   ]
  },
  {
   "cell_type": "code",
   "execution_count": 15,
   "id": "bdae4f7a",
   "metadata": {},
   "outputs": [],
   "source": [
    "a=range(0,50,2)"
   ]
  },
  {
   "cell_type": "code",
   "execution_count": 16,
   "id": "979456ba",
   "metadata": {},
   "outputs": [
    {
     "data": {
      "text/plain": [
       "[0,\n",
       " 4,\n",
       " 16,\n",
       " 36,\n",
       " 64,\n",
       " 100,\n",
       " 144,\n",
       " 196,\n",
       " 256,\n",
       " 324,\n",
       " 400,\n",
       " 484,\n",
       " 576,\n",
       " 676,\n",
       " 784,\n",
       " 900,\n",
       " 1024,\n",
       " 1156,\n",
       " 1296,\n",
       " 1444,\n",
       " 1600,\n",
       " 1764,\n",
       " 1936,\n",
       " 2116,\n",
       " 2304]"
      ]
     },
     "execution_count": 16,
     "metadata": {},
     "output_type": "execute_result"
    }
   ],
   "source": [
    "[ i**2 for i in a]"
   ]
  },
  {
   "cell_type": "markdown",
   "id": "25507dee",
   "metadata": {},
   "source": [
    "5. **Pattern Printing**\n",
    "\n",
    "    Write a Python program that takes an integer 'n' as input and prints the following pattern:\n",
    "    For `n = 4`, the pattern should look like this:\n",
    "\n",
    "    ```\n",
    "    1\n",
    "    1 2\n",
    "    1 2 3\n",
    "    1 2 3 4\n",
    "    ```"
   ]
  },
  {
   "cell_type": "code",
   "execution_count": 9,
   "id": "9cfd55f8",
   "metadata": {},
   "outputs": [
    {
     "name": "stdout",
     "output_type": "stream",
     "text": [
      "1 \r\n",
      "2 2 \r\n",
      "3 3 3 \r\n",
      "4 4 4 4 \r\n"
     ]
    }
   ],
   "source": [
    "a= range(1,5)\n",
    "for i in range(1,5):\n",
    "    for j in range(0,i):\n",
    "        print(i, end=' ')\n",
    "    print(\"\\r\")"
   ]
  },
  {
   "cell_type": "markdown",
   "id": "22527737",
   "metadata": {},
   "source": [
    "6. **Multiplication Table**\n",
    "\n",
    "      Create a Python program that generates and prints a multiplication table for a given number 'n'. The table should include values from 1 to 10.\n",
    "\n",
    "For example, if `n = 5`, the output should be:\n",
    "\n",
    "    ```\n",
    "    5 x 1 = 5\n",
    "    5 x 2 = 10\n",
    "    5 x 3 = 15\n",
    "    5 x 4 = 20\n",
    "    5 x 5 = 25\n",
    "    5 x 6 = 30\n",
    "    5 x 7 = 35\n",
    "    5 x 8 = 40\n",
    "    5 x 9 = 45\n",
    "    5 x 10 = 50\n",
    "    ```"
   ]
  },
  {
   "cell_type": "code",
   "execution_count": 5,
   "id": "ee97b789",
   "metadata": {},
   "outputs": [
    {
     "name": "stdout",
     "output_type": "stream",
     "text": [
      "enter a number:  8\n",
      "8 * 1 = 8\n",
      "8 * 2 = 16\n",
      "8 * 3 = 24\n",
      "8 * 4 = 32\n",
      "8 * 5 = 40\n",
      "8 * 6 = 48\n",
      "8 * 7 = 56\n",
      "8 * 8 = 64\n",
      "8 * 9 = 72\n",
      "8 * 10 = 80\n"
     ]
    }
   ],
   "source": [
    "n=int(input(\"enter a number:  \"))\n",
    "for j in range(1,11):\n",
    "        print(f\"{n} * {j} = {n*j}\")"
   ]
  },
  {
   "cell_type": "markdown",
   "id": "cc4ddcc5",
   "metadata": {},
   "source": [
    "7. **Star Patterns**\n",
    "\n",
    "    Write a Python program that takes an integer 'n' as input and prints the following patterns:\n",
    "\n",
    "    a) Right-angled triangle pattern:\n",
    "    ```\n",
    "    *\n",
    "    **\n",
    "    ***\n",
    "    ****\n",
    "    *****\n",
    "    ```\n",
    "\n",
    "    b) Inverted right-angled triangle pattern:\n",
    "    ```\n",
    "    *****\n",
    "    ****\n",
    "    ***\n",
    "    **\n",
    "    *\n",
    "    ```\n"
   ]
  },
  {
   "cell_type": "code",
   "execution_count": 6,
   "id": "5f42be82",
   "metadata": {},
   "outputs": [
    {
     "name": "stdout",
     "output_type": "stream",
     "text": [
      "enter a number:  7\n",
      "* \n",
      "* * \n",
      "* * * \n",
      "* * * * \n",
      "* * * * * \n",
      "* * * * * * \n",
      "* * * * * * * \n"
     ]
    }
   ],
   "source": [
    "n=int(input(\"enter a number:  \"))\n",
    "for i in range(1,n+1):\n",
    "    print(\"* \"* i)"
   ]
  },
  {
   "cell_type": "code",
   "execution_count": 7,
   "id": "4b7041a2",
   "metadata": {},
   "outputs": [
    {
     "name": "stdout",
     "output_type": "stream",
     "text": [
      "enter a number:  8\n",
      "* * * * * * * * * \n",
      "* * * * * * * * \n",
      "* * * * * * * \n",
      "* * * * * * \n",
      "* * * * * \n",
      "* * * * \n",
      "* * * \n",
      "* * \n",
      "* \n"
     ]
    }
   ],
   "source": [
    "n=int(input(\"enter a number:  \"))\n",
    "for i in range(n+1,0,-1):\n",
    "    print(\"* \"*i)"
   ]
  },
  {
   "cell_type": "markdown",
   "id": "c4fff93b",
   "metadata": {},
   "source": [
    "8. **Number Pyramid**\n",
    "\n",
    "    Create a Python program that takes an integer 'n' as input and prints a number pyramid as shown below:\n",
    "\n",
    "    For `n = 4`, the output should be:\n",
    "\n",
    "    ```\n",
    "       1\n",
    "      212\n",
    "     32123\n",
    "    4321234\n",
    "    ```"
   ]
  },
  {
   "cell_type": "code",
   "execution_count": 7,
   "id": "acdcbab1",
   "metadata": {},
   "outputs": [
    {
     "name": "stdout",
     "output_type": "stream",
     "text": [
      "enter a number:  7\n",
      "      1\n",
      "     212\n",
      "    32123\n",
      "   4321234\n",
      "  543212345\n",
      " 65432123456\n",
      "7654321234567\n"
     ]
    }
   ],
   "source": [
    "n=int(input(\"enter a number:  \"))\n",
    "for i in range(1, n+1):\n",
    "    # Print leading spaces\n",
    "    for j in range(n, i, -1):\n",
    "        print(\" \", end='')\n",
    "    # Print the first half of the pattern\n",
    "    for k in range(i, 0, -1):\n",
    "        print(k, end='')\n",
    "    # Print the second half of the pattern\n",
    "    for l in range(2, i+1):\n",
    "        print(l, end='')\n",
    "    print()"
   ]
  },
  {
   "cell_type": "code",
   "execution_count": null,
   "id": "534eb01e",
   "metadata": {},
   "outputs": [],
   "source": []
  }
 ],
 "metadata": {
  "kernelspec": {
   "display_name": "Python 3 (ipykernel)",
   "language": "python",
   "name": "python3"
  },
  "language_info": {
   "codemirror_mode": {
    "name": "ipython",
    "version": 3
   },
   "file_extension": ".py",
   "mimetype": "text/x-python",
   "name": "python",
   "nbconvert_exporter": "python",
   "pygments_lexer": "ipython3",
   "version": "3.11.4"
  }
 },
 "nbformat": 4,
 "nbformat_minor": 5
}
