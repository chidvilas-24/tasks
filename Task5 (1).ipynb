{
 "cells": [
  {
   "cell_type": "markdown",
   "id": "f9cca2f0",
   "metadata": {},
   "source": [
    "**Task1: Append and Modify Elements**\n",
    "    \n",
    "* Create an empty list called numbers. Append the numbers 1, 2, and 3 to the list.\n",
    "* Modify the element at index 1 to be 4.\n",
    "* Print the updated list.\n",
    "\n",
    "**Task2: Slicing and Concatenation**\n",
    "\n",
    "* Create a list called fruits with elements 'apple', 'banana', 'orange', 'mango', and 'kiwi'. \n",
    "* Create a new list  by slicing fruits to include only the citrus fruits ('orange' and 'mango\"). * Create a new list called tropical by slicing fruits to include only the tropical fruits ('banana\" and \"kiwi'). \n",
    "* Concatenate citrus and tropical lists to create a new list called combined. Print combined.\n",
    "\n",
    "**Task3: Counting and Removing Elements**\n",
    "\n",
    "* Create a list called colors with repeated elements 'red', 'blue', 'red', 'green', 'red'. Print the number of occurrences of 'red' in the list. Remove all occurrences of 'red' from the list. Print the updated list.\n",
    "\n",
    "**Task 4: List Manipulation**\n",
    "\n",
    "* Add 'cheese' to the end of the list. Remove 'milk' from the list.\n",
    "* Create a list called groceries with initial items: 'bread', 'milk', 'eggs', 'butter'. Print the final list of groceries.\n",
    "* Insert 'yogurt' at index 1.\n",
    "\n"
   ]
  },
  {
   "cell_type": "markdown",
   "id": "809ebfdc",
   "metadata": {},
   "source": [
    "**Task1: Append and Modify Elements**\n",
    "    \n",
    "* Create an empty list called numbers. Append the numbers 1, 2, and 3 to the list.\n",
    "* Modify the element at index 1 to be 4.\n",
    "* Print the updated list."
   ]
  },
  {
   "cell_type": "code",
   "execution_count": 68,
   "id": "470e32f0",
   "metadata": {},
   "outputs": [],
   "source": [
    "list1=[]"
   ]
  },
  {
   "cell_type": "code",
   "execution_count": 69,
   "id": "3fd706f0",
   "metadata": {},
   "outputs": [],
   "source": [
    "list1.append(1)"
   ]
  },
  {
   "cell_type": "code",
   "execution_count": 70,
   "id": "3f8cb339",
   "metadata": {},
   "outputs": [],
   "source": [
    "list1.append(2)"
   ]
  },
  {
   "cell_type": "code",
   "execution_count": 71,
   "id": "4444b52a",
   "metadata": {},
   "outputs": [],
   "source": [
    "list1.append(3)"
   ]
  },
  {
   "cell_type": "code",
   "execution_count": 72,
   "id": "2cde121e",
   "metadata": {},
   "outputs": [
    {
     "data": {
      "text/plain": [
       "[1, 2, 3]"
      ]
     },
     "execution_count": 72,
     "metadata": {},
     "output_type": "execute_result"
    }
   ],
   "source": [
    "list1"
   ]
  },
  {
   "cell_type": "code",
   "execution_count": 14,
   "id": "11889784",
   "metadata": {},
   "outputs": [],
   "source": [
    "list1.insert(1,4)"
   ]
  },
  {
   "cell_type": "code",
   "execution_count": 16,
   "id": "23221054",
   "metadata": {},
   "outputs": [
    {
     "name": "stdout",
     "output_type": "stream",
     "text": [
      "[1, 4, 2, 3]\n"
     ]
    }
   ],
   "source": [
    "print(list1)"
   ]
  },
  {
   "cell_type": "markdown",
   "id": "b7334370",
   "metadata": {},
   "source": [
    "**Task2: Slicing and Concatenation**\n",
    "\n",
    "* Create a list called fruits with elements 'apple', 'banana', 'orange', 'mango', and 'kiwi'. \n",
    "* Create a new list  by slicing fruits to include only the citrus fruits ('orange' and 'mango\"). * Create a new list called tropical by slicing fruits to include only the tropical fruits ('banana\" and \"kiwi'). \n",
    "* Concatenate citrus and tropical lists to create a new list called combined. Print combined."
   ]
  },
  {
   "cell_type": "code",
   "execution_count": 17,
   "id": "04a307a7",
   "metadata": {},
   "outputs": [],
   "source": [
    "fruits=[ 'apple', 'banana', 'orange', 'mango','kiwi']"
   ]
  },
  {
   "cell_type": "code",
   "execution_count": 20,
   "id": "a159e8a2",
   "metadata": {},
   "outputs": [],
   "source": [
    "citrus_fruits=fruits[2:4:1]"
   ]
  },
  {
   "cell_type": "code",
   "execution_count": 21,
   "id": "21039fb5",
   "metadata": {},
   "outputs": [
    {
     "name": "stdout",
     "output_type": "stream",
     "text": [
      "['orange', 'mango']\n"
     ]
    }
   ],
   "source": [
    "print(citrus_fruits)"
   ]
  },
  {
   "cell_type": "code",
   "execution_count": 24,
   "id": "d7f2e96a",
   "metadata": {},
   "outputs": [],
   "source": [
    "tropical_fruits=fruits[1::3]"
   ]
  },
  {
   "cell_type": "code",
   "execution_count": 25,
   "id": "3dd3a6b2",
   "metadata": {},
   "outputs": [
    {
     "name": "stdout",
     "output_type": "stream",
     "text": [
      "['banana', 'kiwi']\n"
     ]
    }
   ],
   "source": [
    "print(tropical_fruits)"
   ]
  },
  {
   "cell_type": "code",
   "execution_count": 26,
   "id": "6be583c5",
   "metadata": {},
   "outputs": [],
   "source": [
    "combined=tropical_fruits+citrus_fruits"
   ]
  },
  {
   "cell_type": "code",
   "execution_count": 27,
   "id": "f728764f",
   "metadata": {},
   "outputs": [
    {
     "name": "stdout",
     "output_type": "stream",
     "text": [
      "['banana', 'kiwi', 'orange', 'mango']\n"
     ]
    }
   ],
   "source": [
    "print(combined)"
   ]
  },
  {
   "cell_type": "markdown",
   "id": "39b3d06c",
   "metadata": {},
   "source": [
    "**Task3: Counting and Removing Elements**\n",
    "\n",
    "* Create a list called colors with repeated elements 'red', 'blue', 'red', 'green', 'red'. Print the number of occurrences of 'red' in the list. Remove all occurrences of 'red' from the list. Print the updated list."
   ]
  },
  {
   "cell_type": "code",
   "execution_count": 59,
   "id": "e620d75b",
   "metadata": {},
   "outputs": [],
   "source": [
    "list2=['red', 'blue', 'red', 'green', 'red']"
   ]
  },
  {
   "cell_type": "code",
   "execution_count": 43,
   "id": "d7244dab",
   "metadata": {},
   "outputs": [
    {
     "data": {
      "text/plain": [
       "3"
      ]
     },
     "execution_count": 43,
     "metadata": {},
     "output_type": "execute_result"
    }
   ],
   "source": [
    "list2.count('red')"
   ]
  },
  {
   "cell_type": "code",
   "execution_count": 44,
   "id": "c891eac2",
   "metadata": {},
   "outputs": [],
   "source": [
    "list2.remove('red')"
   ]
  },
  {
   "cell_type": "code",
   "execution_count": 45,
   "id": "9cdf2b9b",
   "metadata": {},
   "outputs": [
    {
     "data": {
      "text/plain": [
       "['blue', 'red', 'green', 'red']"
      ]
     },
     "execution_count": 45,
     "metadata": {},
     "output_type": "execute_result"
    }
   ],
   "source": [
    "list2"
   ]
  },
  {
   "cell_type": "code",
   "execution_count": 46,
   "id": "82befa96",
   "metadata": {},
   "outputs": [],
   "source": [
    "list2.remove('red')"
   ]
  },
  {
   "cell_type": "code",
   "execution_count": 47,
   "id": "36f84af5",
   "metadata": {},
   "outputs": [],
   "source": [
    "list2.remove('red')"
   ]
  },
  {
   "cell_type": "code",
   "execution_count": 49,
   "id": "ec17c486",
   "metadata": {},
   "outputs": [
    {
     "name": "stdout",
     "output_type": "stream",
     "text": [
      "['blue', 'green']\n"
     ]
    }
   ],
   "source": [
    "print(list2)"
   ]
  },
  {
   "cell_type": "markdown",
   "id": "10bf3583",
   "metadata": {},
   "source": [
    "**Task 4: List Manipulation**\n",
    "\n",
    "* Add 'cheese' to the end of the list. Remove 'milk' from the list.\n",
    "* Create a list called groceries with initial items: 'bread', 'milk', 'eggs', 'butter'. Print the final list of groceries.\n",
    "* Insert 'yogurt' at index 1."
   ]
  },
  {
   "cell_type": "code",
   "execution_count": 52,
   "id": "c22e3403",
   "metadata": {},
   "outputs": [],
   "source": [
    "groceries=[ 'bread', 'milk', 'eggs', 'butter']"
   ]
  },
  {
   "cell_type": "code",
   "execution_count": 53,
   "id": "7d3af5dc",
   "metadata": {},
   "outputs": [],
   "source": [
    "groceries.append('cheese')"
   ]
  },
  {
   "cell_type": "code",
   "execution_count": 54,
   "id": "042f6091",
   "metadata": {},
   "outputs": [
    {
     "data": {
      "text/plain": [
       "['bread', 'milk', 'eggs', 'butter', 'cheese']"
      ]
     },
     "execution_count": 54,
     "metadata": {},
     "output_type": "execute_result"
    }
   ],
   "source": [
    "groceries"
   ]
  },
  {
   "cell_type": "code",
   "execution_count": 55,
   "id": "2cd17adb",
   "metadata": {},
   "outputs": [],
   "source": [
    "groceries.remove('milk')"
   ]
  },
  {
   "cell_type": "code",
   "execution_count": 56,
   "id": "979a0990",
   "metadata": {},
   "outputs": [
    {
     "data": {
      "text/plain": [
       "['bread', 'eggs', 'butter', 'cheese']"
      ]
     },
     "execution_count": 56,
     "metadata": {},
     "output_type": "execute_result"
    }
   ],
   "source": [
    "groceries"
   ]
  },
  {
   "cell_type": "code",
   "execution_count": 57,
   "id": "a7681de0",
   "metadata": {},
   "outputs": [],
   "source": [
    "groceries.insert(1,'yogurt')"
   ]
  },
  {
   "cell_type": "code",
   "execution_count": 58,
   "id": "87451ed2",
   "metadata": {},
   "outputs": [
    {
     "data": {
      "text/plain": [
       "['bread', 'yogurt', 'eggs', 'butter', 'cheese']"
      ]
     },
     "execution_count": 58,
     "metadata": {},
     "output_type": "execute_result"
    }
   ],
   "source": [
    "groceries"
   ]
  },
  {
   "cell_type": "code",
   "execution_count": null,
   "id": "613c783d",
   "metadata": {},
   "outputs": [],
   "source": []
  }
 ],
 "metadata": {
  "kernelspec": {
   "display_name": "Python 3 (ipykernel)",
   "language": "python",
   "name": "python3"
  },
  "language_info": {
   "codemirror_mode": {
    "name": "ipython",
    "version": 3
   },
   "file_extension": ".py",
   "mimetype": "text/x-python",
   "name": "python",
   "nbconvert_exporter": "python",
   "pygments_lexer": "ipython3",
   "version": "3.11.4"
  }
 },
 "nbformat": 4,
 "nbformat_minor": 5
}
