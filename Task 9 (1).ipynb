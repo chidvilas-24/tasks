{
 "cells": [
  {
   "cell_type": "markdown",
   "id": "dd8718fa",
   "metadata": {},
   "source": [
    "\n",
    "\n",
    "1. **Print Numbers from 1 to N:**\n",
    "   Write a Python program that uses a for loop to print all numbers from `1 to N` and `substract 5 `from each number.where N is a `positive integer` entered by the user.\n",
    "\n",
    "2. **Calculate the Sum of Numbers from 1 to N:**\n",
    "   Write a Python program that calculates and prints the `sum` of all numbers from `1 to N`, where N is a `positive integer` entered by the user, using a for loop.\n",
    "\n",
    "3. **Print Even Numbers:**\n",
    "   Write a Python program that prints all `even numbers` from `50 to 100` using a `for` loop.\n",
    "\n",
    "4. **Reverse a String:**\n",
    "   Write a Python program that takes a string as input and uses a `for loop` to print the characters of the string in `reverse order`.\n",
    "\n",
    "5. **Count Vowels in a String:**\n",
    "    `name = \"innomatics research labs\"`\n",
    "   Write a Python program uses a for loop to count the number of vowels (a, e, i, o, u) in the string. Ignore case sensitivity.\n",
    "\n",
    "6. **Generate a Multiplication Table:**\n",
    "   Write a Python program that generates and prints the multiplication table for  6.\n"
   ]
  },
  {
   "cell_type": "markdown",
   "id": "7850d025",
   "metadata": {},
   "source": [
    "1. **Print Numbers from 1 to N:**\n",
    "   Write a Python program that uses a for loop to print all numbers from `1 to N` and `substract 5 `from each number.where N is a `positive integer` entered by the user."
   ]
  },
  {
   "cell_type": "code",
   "execution_count": 2,
   "id": "925547c3",
   "metadata": {},
   "outputs": [
    {
     "name": "stdout",
     "output_type": "stream",
     "text": [
      "enter a number:  7\n",
      "-4\n",
      "-3\n",
      "-2\n",
      "-1\n",
      "0\n",
      "1\n"
     ]
    }
   ],
   "source": [
    "num=int(input(\"enter a number:  \"))\n",
    "for i in range(1,num):\n",
    "    print(i-5)"
   ]
  },
  {
   "cell_type": "markdown",
   "id": "b91404f3",
   "metadata": {},
   "source": [
    "2. **Calculate the Sum of Numbers from 1 to N:**\n",
    "   Write a Python program that calculates and prints the `sum` of all numbers from `1 to N`, where N is a `positive integer` entered by the user, using a for loop."
   ]
  },
  {
   "cell_type": "code",
   "execution_count": 4,
   "id": "58c0fe5f",
   "metadata": {},
   "outputs": [
    {
     "name": "stdout",
     "output_type": "stream",
     "text": [
      "enter the number:  9\n",
      "total= 36\n"
     ]
    }
   ],
   "source": [
    "n=int(input(\"enter the number:  \"))\n",
    "total=0\n",
    "for i in range(1,n):\n",
    "    total=total+i\n",
    "print(\"total=\",total)"
   ]
  },
  {
   "cell_type": "markdown",
   "id": "412e69ec",
   "metadata": {},
   "source": [
    "3. **Print Even Numbers:**\n",
    "   Write a Python program that prints all `even numbers` from `50 to 100` using a `for` loop."
   ]
  },
  {
   "cell_type": "code",
   "execution_count": 9,
   "id": "234c0059",
   "metadata": {},
   "outputs": [
    {
     "name": "stdout",
     "output_type": "stream",
     "text": [
      "50\n",
      "52\n",
      "54\n",
      "56\n",
      "58\n",
      "60\n",
      "62\n",
      "64\n",
      "66\n",
      "68\n",
      "70\n",
      "72\n",
      "74\n",
      "76\n",
      "78\n",
      "80\n",
      "82\n",
      "84\n",
      "86\n",
      "88\n",
      "90\n",
      "92\n",
      "94\n",
      "96\n",
      "98\n"
     ]
    }
   ],
   "source": [
    "for i in range(50,100):\n",
    "    if i%2==0:\n",
    "        print(i)"
   ]
  },
  {
   "cell_type": "markdown",
   "id": "88f7b4e3",
   "metadata": {},
   "source": [
    "4. **Reverse a String:**\n",
    "   Write a Python program that takes a string as input and uses a `for loop` to print the characters of the string in `reverse order`."
   ]
  },
  {
   "cell_type": "code",
   "execution_count": 12,
   "id": "c363af5f",
   "metadata": {},
   "outputs": [
    {
     "name": "stdout",
     "output_type": "stream",
     "text": [
      "enter a string: come and go\n",
      "o\n",
      "g\n",
      " \n",
      "d\n",
      "n\n",
      "a\n",
      " \n",
      "e\n",
      "m\n",
      "o\n",
      "c\n"
     ]
    }
   ],
   "source": [
    "st=input(\"enter a string: \")\n",
    "for i in st[-1::-1]:\n",
    "    print(i)"
   ]
  },
  {
   "cell_type": "markdown",
   "id": "dfe20cb4",
   "metadata": {},
   "source": [
    "5. **Count Vowels in a String:**\n",
    "    `name = \"innomatics research labs\"`\n",
    "   Write a Python program uses a for loop to count the number of vowels (a, e, i, o, u) in the string. Ignore case sensitivity.\n"
   ]
  },
  {
   "cell_type": "code",
   "execution_count": 16,
   "id": "7d7a3805",
   "metadata": {},
   "outputs": [
    {
     "name": "stdout",
     "output_type": "stream",
     "text": [
      "8\n"
     ]
    }
   ],
   "source": [
    "name = \"innomatics research labs\"\n",
    "sen=[]\n",
    "for i in name:\n",
    "    if i in ('a','e','i','o','u'):\n",
    "        sen.append(i)\n",
    "print(len(sen))"
   ]
  },
  {
   "cell_type": "markdown",
   "id": "35dba350",
   "metadata": {},
   "source": [
    "6. **Generate a Multiplication Table:**\n",
    "   Write a Python program that generates and prints the multiplication table for  6."
   ]
  },
  {
   "cell_type": "code",
   "execution_count": 23,
   "id": "3c6c3b1d",
   "metadata": {},
   "outputs": [
    {
     "name": "stdout",
     "output_type": "stream",
     "text": [
      "enter the number of times the table should be multiplied:  20\n",
      "6 * 1 = 6\n",
      "6 * 2 = 12\n",
      "6 * 3 = 18\n",
      "6 * 4 = 24\n",
      "6 * 5 = 30\n",
      "6 * 6 = 36\n",
      "6 * 7 = 42\n",
      "6 * 8 = 48\n",
      "6 * 9 = 54\n",
      "6 * 10 = 60\n",
      "6 * 11 = 66\n",
      "6 * 12 = 72\n",
      "6 * 13 = 78\n",
      "6 * 14 = 84\n",
      "6 * 15 = 90\n",
      "6 * 16 = 96\n",
      "6 * 17 = 102\n",
      "6 * 18 = 108\n",
      "6 * 19 = 114\n",
      "6 * 20 = 120\n"
     ]
    }
   ],
   "source": [
    "n=6\n",
    "m=int(input(\"enter the number of times the table should be multiplied:  \"))\n",
    "for i in range(1,m+1):\n",
    "    tab= n * i\n",
    "    print(f\"{n} * {i} = {tab}\")"
   ]
  }
 ],
 "metadata": {
  "kernelspec": {
   "display_name": "Python 3 (ipykernel)",
   "language": "python",
   "name": "python3"
  },
  "language_info": {
   "codemirror_mode": {
    "name": "ipython",
    "version": 3
   },
   "file_extension": ".py",
   "mimetype": "text/x-python",
   "name": "python",
   "nbconvert_exporter": "python",
   "pygments_lexer": "ipython3",
   "version": "3.11.4"
  }
 },
 "nbformat": 4,
 "nbformat_minor": 5
}
