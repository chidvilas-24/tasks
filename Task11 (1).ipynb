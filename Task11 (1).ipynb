{
 "cells": [
  {
   "cell_type": "markdown",
   "id": "bcb3976f",
   "metadata": {},
   "source": [
    "Task 1: `Counting Numbers`\n",
    "    \n",
    "    write a program that prints the numbers from 1 to 10, each on a new line.\n",
    "\n",
    "\n",
    "Task 2: `Even Numbers`\n",
    "\n",
    "    write a program that prints the even numbers from 1 to 20, each on a new line.\n",
    "\n",
    "\n",
    "Task 3: `Square Numbers`\n",
    "\n",
    "    Write a program that calculates and prints the square of each number from 1 to 5.\n",
    "\n",
    "\n",
    "Task 4: `Multiples of Three`\n",
    "\n",
    "    write a program that prints the multiples of 3 from 3 to 30, each on a new line.\n",
    "\n",
    "Task 5: `Reverse Counting`\n",
    "\n",
    "    Write a program that prints the numbers from 10 to 1 in descending order, each on a new line."
   ]
  },
  {
   "cell_type": "markdown",
   "id": "9bc35c44",
   "metadata": {},
   "source": [
    "Task 1: `Counting Numbers`\n",
    "    \n",
    "    write a program that prints the numbers from 1 to 10, each on a new line.\n"
   ]
  },
  {
   "cell_type": "code",
   "execution_count": 1,
   "id": "6ad11202",
   "metadata": {},
   "outputs": [
    {
     "name": "stdout",
     "output_type": "stream",
     "text": [
      "1\n",
      "2\n",
      "3\n",
      "4\n",
      "5\n",
      "6\n",
      "7\n",
      "8\n",
      "9\n",
      "10\n"
     ]
    }
   ],
   "source": [
    "n=10   #using for loop\n",
    "for i in range(1,n+1):\n",
    "    print(i)"
   ]
  },
  {
   "cell_type": "code",
   "execution_count": 1,
   "id": "4a013a97",
   "metadata": {},
   "outputs": [
    {
     "name": "stdout",
     "output_type": "stream",
     "text": [
      "1\n",
      "2\n",
      "3\n",
      "4\n",
      "5\n",
      "6\n",
      "7\n",
      "8\n",
      "9\n",
      "10\n"
     ]
    }
   ],
   "source": [
    "n=1\n",
    "while n<=10:\n",
    "    print(n)\n",
    "    n=n+1"
   ]
  },
  {
   "cell_type": "markdown",
   "id": "aed1560e",
   "metadata": {},
   "source": [
    "Task 2: `Even Numbers`\n",
    "\n",
    "    write a program that prints the even numbers from 1 to 20, each on a new line."
   ]
  },
  {
   "cell_type": "code",
   "execution_count": 5,
   "id": "03649351",
   "metadata": {},
   "outputs": [
    {
     "name": "stdout",
     "output_type": "stream",
     "text": [
      "2\n",
      "4\n",
      "6\n",
      "8\n",
      "10\n",
      "12\n",
      "14\n",
      "16\n",
      "18\n",
      "20\n"
     ]
    }
   ],
   "source": [
    "n=20   #using for loop\n",
    "for i in range(1,n+1):\n",
    "    if i%2==0:\n",
    "        print(i)"
   ]
  },
  {
   "cell_type": "code",
   "execution_count": 1,
   "id": "674051bd",
   "metadata": {},
   "outputs": [
    {
     "name": "stdout",
     "output_type": "stream",
     "text": [
      "2\n",
      "4\n",
      "6\n",
      "8\n",
      "10\n",
      "12\n",
      "14\n",
      "16\n",
      "18\n",
      "20\n"
     ]
    }
   ],
   "source": [
    "n=1\n",
    "while n<=20:\n",
    "    if n%2==0:\n",
    "        print(n)\n",
    "    n=n+1"
   ]
  },
  {
   "cell_type": "markdown",
   "id": "13ab3ab6",
   "metadata": {},
   "source": [
    "Task 3: `Square Numbers`\n",
    "\n",
    "    Write a program that calculates and prints the square of each number from 1 to 5.\n"
   ]
  },
  {
   "cell_type": "code",
   "execution_count": 4,
   "id": "2a2c1273",
   "metadata": {},
   "outputs": [
    {
     "name": "stdout",
     "output_type": "stream",
     "text": [
      "1\n",
      "4\n",
      "9\n",
      "16\n",
      "25\n"
     ]
    }
   ],
   "source": [
    "n=5  #using for loop\n",
    "for i in range(1,n+1):\n",
    "    print(i**2)"
   ]
  },
  {
   "cell_type": "code",
   "execution_count": 5,
   "id": "d5b34eff",
   "metadata": {},
   "outputs": [
    {
     "name": "stdout",
     "output_type": "stream",
     "text": [
      "1\n",
      "4\n",
      "9\n",
      "16\n",
      "25\n"
     ]
    }
   ],
   "source": [
    "n=1   #using while loop  \n",
    "while n<=5:\n",
    "    print(n**2)\n",
    "    n=n+1"
   ]
  },
  {
   "cell_type": "markdown",
   "id": "0a33582a",
   "metadata": {},
   "source": [
    " Task 4: `Multiples of Three`\n",
    "\n",
    "    write a program that prints the multiples of 3 from 3 to 30, each on a new line."
   ]
  },
  {
   "cell_type": "code",
   "execution_count": 7,
   "id": "da85acbe",
   "metadata": {},
   "outputs": [
    {
     "name": "stdout",
     "output_type": "stream",
     "text": [
      "3\n",
      "6\n",
      "9\n",
      "12\n",
      "15\n",
      "18\n",
      "21\n",
      "24\n",
      "27\n",
      "30\n"
     ]
    }
   ],
   "source": [
    "n=30     #using for loop\n",
    "for i in range(1,n+1):\n",
    "    if i%3==0:\n",
    "        print(i)"
   ]
  },
  {
   "cell_type": "code",
   "execution_count": 4,
   "id": "d3ab1668",
   "metadata": {},
   "outputs": [
    {
     "name": "stdout",
     "output_type": "stream",
     "text": [
      "3\n",
      "6\n",
      "9\n",
      "12\n",
      "15\n",
      "18\n",
      "21\n",
      "24\n",
      "27\n",
      "30\n"
     ]
    }
   ],
   "source": [
    "i=1     #using while loop\n",
    "while i <=30:\n",
    "    if i%3 == 0:\n",
    "        print(i)\n",
    "    i=i+1"
   ]
  },
  {
   "cell_type": "markdown",
   "id": "8d6e03bc",
   "metadata": {},
   "source": [
    "Task 5: `Reverse Counting`\n",
    "\n",
    "    Write a program that prints the numbers from 10 to 1 in descending order, each on a new line."
   ]
  },
  {
   "cell_type": "code",
   "execution_count": 10,
   "id": "f1c698e2",
   "metadata": {},
   "outputs": [
    {
     "name": "stdout",
     "output_type": "stream",
     "text": [
      "10\n",
      "9\n",
      "8\n",
      "7\n",
      "6\n",
      "5\n",
      "4\n",
      "3\n",
      "2\n",
      "1\n"
     ]
    }
   ],
   "source": [
    "n=10   #using for loop\n",
    "for i in range(n,0,-1):\n",
    "    print(i)"
   ]
  },
  {
   "cell_type": "code",
   "execution_count": 12,
   "id": "fa97ae9c",
   "metadata": {},
   "outputs": [
    {
     "name": "stdout",
     "output_type": "stream",
     "text": [
      "10\n",
      "9\n",
      "8\n",
      "7\n",
      "6\n",
      "5\n",
      "4\n",
      "3\n",
      "2\n",
      "1\n"
     ]
    }
   ],
   "source": [
    "n=10    #using while loop\n",
    "while n>0:\n",
    "    print(n)\n",
    "    n=n-1"
   ]
  },
  {
   "cell_type": "code",
   "execution_count": null,
   "id": "be03eacf",
   "metadata": {},
   "outputs": [],
   "source": []
  }
 ],
 "metadata": {
  "kernelspec": {
   "display_name": "Python 3 (ipykernel)",
   "language": "python",
   "name": "python3"
  },
  "language_info": {
   "codemirror_mode": {
    "name": "ipython",
    "version": 3
   },
   "file_extension": ".py",
   "mimetype": "text/x-python",
   "name": "python",
   "nbconvert_exporter": "python",
   "pygments_lexer": "ipython3",
   "version": "3.11.4"
  }
 },
 "nbformat": 4,
 "nbformat_minor": 5
}
