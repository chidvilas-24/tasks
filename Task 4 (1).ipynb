{
 "cells": [
  {
   "cell_type": "markdown",
   "id": "b24867f7",
   "metadata": {},
   "source": [
    "1. Ask user to  enter a  website name and check whether it is valid or not(True/False)\n",
    "\n",
    "\n",
    "2. name = \"Innomatics\", course = \"Data Science\"\n",
    "   write python code in `different ways` to show output as :\n",
    "   `\"Hello World I am learning Data Science in Innomatics\"`\n",
    "   \n",
    "   \n",
    "3. Replace `Science` with `Analysis` in the above output.\n",
    "\n",
    "\n",
    "4. `string = '     Hello World I am learning Python in Innomatics   '`\n",
    "    a. How many characters are there in the string.\n",
    "    b. Slice only 'Python' from above string\n",
    "    c. Remove white spaces on both sides then find no.of characters in the string.\n",
    "    d. Convert the string in Upper case\n",
    "    \n",
    "    \n",
    "5. What is the index number of 'World' in above string.\n",
    "\n",
    "\n",
    "6. Split the string with respect to `whitespace`.after that `store` that splitted into a variable and find the `data type`of that variable.\n",
    "\n",
    "\n",
    "7. How many times 'a' is `repeated` in above string.\n",
    "\n",
    "8. "
   ]
  },
  {
   "cell_type": "markdown",
   "id": "1b32f02e",
   "metadata": {},
   "source": [
    "1. Ask user to  enter a  website name and check whether it is valid or not(True/False)"
   ]
  },
  {
   "cell_type": "code",
   "execution_count": 10,
   "id": "429c906d",
   "metadata": {},
   "outputs": [
    {
     "name": "stdout",
     "output_type": "stream",
     "text": [
      "enter a website:  www.innomatics.com\n"
     ]
    },
    {
     "data": {
      "text/plain": [
       "True"
      ]
     },
     "execution_count": 10,
     "metadata": {},
     "output_type": "execute_result"
    }
   ],
   "source": [
    "website=input(\"enter a website:  \")\n",
    "website.startswith(\"www.\") and website.endswith(\".com\")"
   ]
  },
  {
   "cell_type": "markdown",
   "id": "45567c7b",
   "metadata": {},
   "source": [
    "2. name = \"Innomatics\", course = \"Data Science\"\n",
    "   write python code in `different ways` to show output as :\n",
    "   `\"Hello World I am learning Data Science in Innomatics\"`"
   ]
  },
  {
   "cell_type": "markdown",
   "id": "19f94475",
   "metadata": {},
   "source": [
    "method-1"
   ]
  },
  {
   "cell_type": "code",
   "execution_count": 39,
   "id": "fff8ab7c",
   "metadata": {},
   "outputs": [],
   "source": [
    "name=\"innomatics\"\n",
    "course=\"data science\""
   ]
  },
  {
   "cell_type": "code",
   "execution_count": 40,
   "id": "1a486e42",
   "metadata": {},
   "outputs": [
    {
     "name": "stdout",
     "output_type": "stream",
     "text": [
      "Hello world I am learning data science in innomatics\n"
     ]
    }
   ],
   "source": [
    "print(f\"Hello world I am learning {course} in {name}\")"
   ]
  },
  {
   "cell_type": "markdown",
   "id": "42af56e7",
   "metadata": {},
   "source": [
    "method-2"
   ]
  },
  {
   "cell_type": "code",
   "execution_count": 41,
   "id": "e8763e52",
   "metadata": {},
   "outputs": [
    {
     "name": "stdout",
     "output_type": "stream",
     "text": [
      "Hello world I am learning data science in innomatics\n"
     ]
    }
   ],
   "source": [
    "print(\"Hello world I am learning {} in {}\".format(course,name))"
   ]
  },
  {
   "cell_type": "markdown",
   "id": "91d9fba4",
   "metadata": {},
   "source": [
    "method-3"
   ]
  },
  {
   "cell_type": "code",
   "execution_count": 42,
   "id": "495a4f30",
   "metadata": {},
   "outputs": [
    {
     "name": "stdout",
     "output_type": "stream",
     "text": [
      "Hello world Iam learning data science in innomatics\n"
     ]
    }
   ],
   "source": [
    "print('Hello world Iam learning ' +course+ ' in ' +name)"
   ]
  },
  {
   "cell_type": "markdown",
   "id": "b14929d0",
   "metadata": {},
   "source": [
    "3. Replace `Science` with `Analysis` in the above output."
   ]
  },
  {
   "cell_type": "code",
   "execution_count": 43,
   "id": "a530bb36",
   "metadata": {},
   "outputs": [],
   "source": [
    "string=\"Hello world Iam learning data science in innomatics\""
   ]
  },
  {
   "cell_type": "code",
   "execution_count": 44,
   "id": "3a7bd03a",
   "metadata": {},
   "outputs": [
    {
     "data": {
      "text/plain": [
       "'Hello world Iam learning data analysis in innomatics'"
      ]
     },
     "execution_count": 44,
     "metadata": {},
     "output_type": "execute_result"
    }
   ],
   "source": [
    "string.replace(\"science\",\"analysis\")"
   ]
  },
  {
   "cell_type": "markdown",
   "id": "1431e0ba",
   "metadata": {},
   "source": [
    "4. `string = '     Hello World I am learning Python in Innomatics   '`\n",
    "    a. How many characters are there in the string.\n",
    "    b. Slice only 'Python' from above string\n",
    "    c. Remove white spaces on both sides then find no.of characters in the string.\n",
    "    d. Convert the string in Upper case"
   ]
  },
  {
   "cell_type": "code",
   "execution_count": 4,
   "id": "66892c5a",
   "metadata": {},
   "outputs": [],
   "source": [
    "string = '     Hello World I am learning Python in Innomatics   '"
   ]
  },
  {
   "cell_type": "code",
   "execution_count": 5,
   "id": "29ddcb0a",
   "metadata": {},
   "outputs": [
    {
     "data": {
      "text/plain": [
       "54"
      ]
     },
     "execution_count": 5,
     "metadata": {},
     "output_type": "execute_result"
    }
   ],
   "source": [
    "len(string)"
   ]
  },
  {
   "cell_type": "code",
   "execution_count": 7,
   "id": "2333f89e",
   "metadata": {},
   "outputs": [
    {
     "data": {
      "text/plain": [
       "'Python '"
      ]
     },
     "execution_count": 7,
     "metadata": {},
     "output_type": "execute_result"
    }
   ],
   "source": [
    "string[31:38:1]"
   ]
  },
  {
   "cell_type": "code",
   "execution_count": 16,
   "id": "d4ba83d7",
   "metadata": {},
   "outputs": [],
   "source": [
    "string = '     Hello World I am learning Python in Innomatics   '"
   ]
  },
  {
   "cell_type": "code",
   "execution_count": 17,
   "id": "95a9f021",
   "metadata": {},
   "outputs": [
    {
     "data": {
      "text/plain": [
       "'Hello World I am learning Python in Innomatics'"
      ]
     },
     "execution_count": 17,
     "metadata": {},
     "output_type": "execute_result"
    }
   ],
   "source": [
    "string.strip()"
   ]
  },
  {
   "cell_type": "code",
   "execution_count": 18,
   "id": "552fab95",
   "metadata": {},
   "outputs": [],
   "source": [
    "string='Hello World I am learning Python in Innomatics'"
   ]
  },
  {
   "cell_type": "code",
   "execution_count": 19,
   "id": "c3065220",
   "metadata": {},
   "outputs": [
    {
     "data": {
      "text/plain": [
       "46"
      ]
     },
     "execution_count": 19,
     "metadata": {},
     "output_type": "execute_result"
    }
   ],
   "source": [
    "len(string)"
   ]
  },
  {
   "cell_type": "code",
   "execution_count": 20,
   "id": "9832635f",
   "metadata": {},
   "outputs": [
    {
     "data": {
      "text/plain": [
       "'HELLO WORLD I AM LEARNING PYTHON IN INNOMATICS'"
      ]
     },
     "execution_count": 20,
     "metadata": {},
     "output_type": "execute_result"
    }
   ],
   "source": [
    "string.upper()"
   ]
  },
  {
   "cell_type": "markdown",
   "id": "c9c0991d",
   "metadata": {},
   "source": [
    "5. What is the index number of 'World' in above string."
   ]
  },
  {
   "cell_type": "code",
   "execution_count": 50,
   "id": "d3ad5a98",
   "metadata": {},
   "outputs": [],
   "source": [
    "string1 = \"     Hello World I am learning Python in Innomatics   \""
   ]
  },
  {
   "cell_type": "code",
   "execution_count": 52,
   "id": "9b45dd8d",
   "metadata": {},
   "outputs": [
    {
     "data": {
      "text/plain": [
       "11"
      ]
     },
     "execution_count": 52,
     "metadata": {},
     "output_type": "execute_result"
    }
   ],
   "source": [
    "string1.index('World')"
   ]
  },
  {
   "cell_type": "markdown",
   "id": "ee354188",
   "metadata": {},
   "source": [
    "6. Split the string with respect to `whitespace`.after that `store` that splitted into a variable and find the `data type`of that variable."
   ]
  },
  {
   "cell_type": "code",
   "execution_count": 53,
   "id": "a39e135c",
   "metadata": {},
   "outputs": [
    {
     "data": {
      "text/plain": [
       "'     Hello World I am learning Python in Innomatics   '"
      ]
     },
     "execution_count": 53,
     "metadata": {},
     "output_type": "execute_result"
    }
   ],
   "source": [
    "string1"
   ]
  },
  {
   "cell_type": "code",
   "execution_count": 56,
   "id": "1654a694",
   "metadata": {},
   "outputs": [
    {
     "data": {
      "text/plain": [
       "['',\n",
       " '',\n",
       " '',\n",
       " '',\n",
       " '',\n",
       " 'Hello',\n",
       " 'World',\n",
       " 'I',\n",
       " 'am',\n",
       " 'learning',\n",
       " 'Python',\n",
       " 'in',\n",
       " 'Innomatics',\n",
       " '',\n",
       " '',\n",
       " '']"
      ]
     },
     "execution_count": 56,
     "metadata": {},
     "output_type": "execute_result"
    }
   ],
   "source": [
    "string1.split(\" \")"
   ]
  },
  {
   "cell_type": "code",
   "execution_count": 60,
   "id": "2e6abae3",
   "metadata": {},
   "outputs": [],
   "source": [
    "var=string1.split(\" \")"
   ]
  },
  {
   "cell_type": "code",
   "execution_count": 61,
   "id": "49ecc370",
   "metadata": {},
   "outputs": [
    {
     "data": {
      "text/plain": [
       "['',\n",
       " '',\n",
       " '',\n",
       " '',\n",
       " '',\n",
       " 'Hello',\n",
       " 'World',\n",
       " 'I',\n",
       " 'am',\n",
       " 'learning',\n",
       " 'Python',\n",
       " 'in',\n",
       " 'Innomatics',\n",
       " '',\n",
       " '',\n",
       " '']"
      ]
     },
     "execution_count": 61,
     "metadata": {},
     "output_type": "execute_result"
    }
   ],
   "source": [
    "var"
   ]
  },
  {
   "cell_type": "code",
   "execution_count": 62,
   "id": "a21255a4",
   "metadata": {},
   "outputs": [
    {
     "data": {
      "text/plain": [
       "list"
      ]
     },
     "execution_count": 62,
     "metadata": {},
     "output_type": "execute_result"
    }
   ],
   "source": [
    "type(var)"
   ]
  },
  {
   "cell_type": "markdown",
   "id": "8abf2c85",
   "metadata": {},
   "source": [
    "7. How many times 'a' is `repeated` in above string."
   ]
  },
  {
   "cell_type": "code",
   "execution_count": 63,
   "id": "67d6799e",
   "metadata": {},
   "outputs": [
    {
     "data": {
      "text/plain": [
       "'     Hello World I am learning Python in Innomatics   '"
      ]
     },
     "execution_count": 63,
     "metadata": {},
     "output_type": "execute_result"
    }
   ],
   "source": [
    "string1"
   ]
  },
  {
   "cell_type": "code",
   "execution_count": 66,
   "id": "9914f6be",
   "metadata": {},
   "outputs": [
    {
     "data": {
      "text/plain": [
       "3"
      ]
     },
     "execution_count": 66,
     "metadata": {},
     "output_type": "execute_result"
    }
   ],
   "source": [
    "string1.count(\"a\")"
   ]
  },
  {
   "cell_type": "code",
   "execution_count": null,
   "id": "2315c472",
   "metadata": {},
   "outputs": [],
   "source": []
  }
 ],
 "metadata": {
  "kernelspec": {
   "display_name": "Python 3 (ipykernel)",
   "language": "python",
   "name": "python3"
  },
  "language_info": {
   "codemirror_mode": {
    "name": "ipython",
    "version": 3
   },
   "file_extension": ".py",
   "mimetype": "text/x-python",
   "name": "python",
   "nbconvert_exporter": "python",
   "pygments_lexer": "ipython3",
   "version": "3.11.4"
  }
 },
 "nbformat": 4,
 "nbformat_minor": 5
}
