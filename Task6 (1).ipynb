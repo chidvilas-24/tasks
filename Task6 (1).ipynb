{
 "cells": [
  {
   "cell_type": "markdown",
   "id": "e30e91f8",
   "metadata": {},
   "source": [
    "\n",
    "\n",
    "**Assignment Task 1:** Tuple Basics\n",
    "Create a Python tuple containing the names of your favorite fruits. Write a Python program to print `each fruit` name from the tuple.\n",
    "\n",
    "**Assignment Task 2:** Tuple Operations\n",
    "Given two tuples, write a Python program to `concatenate` them into a `single` tuple and then find the `length` of the resulting tuple.\n",
    "\n",
    "**Assignment Task 3:** Set Creation\n",
    "Create a Python set containing the first 10 `even` numbers (2, 4, 6, ...). Write a program to `display` this set.\n",
    "\n",
    "**Assignment Task 4:** Set Operations\n",
    "Given two sets, write a Python program to find the `union, intersection, and difference` of these sets.\n",
    "\n",
    "**Assignment Task 5:** Tuple and Set Conversion\n",
    "Write a Python program that takes a `tuple` of integers and converts it into a `set`. Then, find and print the `maximum and minimum` values from the set.\n",
    "\n",
    "**Assignment Task 6:** Tuple Immutability\n",
    "Explain the concept of immutability in Python tuples with examples. Discuss why tuples are considered immutable data structures.\n",
    "\n",
    "**Assignment Task 7:** Set Operations and Methods\n",
    "Write a Python program that takes a set of numbers and performs the following operations:\n",
    "   - Add a new number to the set.\n",
    "   - Remove a number from the set.\n",
    "   - Check if a specific number is in the set.\n",
    "   - Find the size of the set.\n",
    "\n",
    "**Assignment Task 8:** Tuple Slicing\n",
    "Given a tuple of 10 elements, write a Python program to print the elements from the `3rd to the 7th `position using slicing.\n",
    "\n",
    "**Assignment Task 9:** Set Operations with Lists\n",
    "Create a Python list with duplicate elements and convert it into a set to remove duplicates. Then, write a program to count how many duplicates were removed.\n",
    "\n",
    "**Assignment Task 10:** Tuple and Set Combinations\n",
    "Create a `tuple` containing the names of your friend's favorite movies and a `set` containing the names of your favorite movies. Write a Python program to find and display common elements (movies that feature your "
   ]
  },
  {
   "cell_type": "markdown",
   "id": "9a6da104",
   "metadata": {},
   "source": [
    "**Assignment Task 1:** Tuple Basics\n",
    "Create a Python tuple containing the names of your favorite fruits. Write a Python program to print `each fruit` name from the tuple."
   ]
  },
  {
   "cell_type": "code",
   "execution_count": 1,
   "id": "b8157e12",
   "metadata": {},
   "outputs": [],
   "source": [
    "tup = ('strawberry','banana','dragon fruit','apple','water melon')"
   ]
  },
  {
   "cell_type": "code",
   "execution_count": 2,
   "id": "56290001",
   "metadata": {},
   "outputs": [
    {
     "data": {
      "text/plain": [
       "'strawberry'"
      ]
     },
     "execution_count": 2,
     "metadata": {},
     "output_type": "execute_result"
    }
   ],
   "source": [
    "tup[0]"
   ]
  },
  {
   "cell_type": "code",
   "execution_count": 3,
   "id": "593a5304",
   "metadata": {},
   "outputs": [
    {
     "data": {
      "text/plain": [
       "'banana'"
      ]
     },
     "execution_count": 3,
     "metadata": {},
     "output_type": "execute_result"
    }
   ],
   "source": [
    "tup[1]"
   ]
  },
  {
   "cell_type": "code",
   "execution_count": 4,
   "id": "b16a1e55",
   "metadata": {},
   "outputs": [
    {
     "data": {
      "text/plain": [
       "'dragon fruit'"
      ]
     },
     "execution_count": 4,
     "metadata": {},
     "output_type": "execute_result"
    }
   ],
   "source": [
    "tup[2]"
   ]
  },
  {
   "cell_type": "code",
   "execution_count": 5,
   "id": "c2113023",
   "metadata": {},
   "outputs": [
    {
     "data": {
      "text/plain": [
       "'apple'"
      ]
     },
     "execution_count": 5,
     "metadata": {},
     "output_type": "execute_result"
    }
   ],
   "source": [
    "tup[3]"
   ]
  },
  {
   "cell_type": "code",
   "execution_count": 6,
   "id": "d607b320",
   "metadata": {},
   "outputs": [
    {
     "data": {
      "text/plain": [
       "'water melon'"
      ]
     },
     "execution_count": 6,
     "metadata": {},
     "output_type": "execute_result"
    }
   ],
   "source": [
    "tup[4]"
   ]
  },
  {
   "cell_type": "markdown",
   "id": "526e393b",
   "metadata": {},
   "source": [
    "**Assignment Task 2:** Tuple Operations\n",
    "Given two tuples, write a Python program to `concatenate` them into a `single` tuple and then find the `length` of the resulting tuple."
   ]
  },
  {
   "cell_type": "code",
   "execution_count": 9,
   "id": "2f4bb44f",
   "metadata": {},
   "outputs": [],
   "source": [
    "tup1=(\"supplies\",\"awesome\",\"enemy\",\"charge\",\"attack\")\n",
    "tup2=(\"rush\",\"impressive\",\"fall back\",\"ammo\",\"cover\")"
   ]
  },
  {
   "cell_type": "code",
   "execution_count": 10,
   "id": "87ef4260",
   "metadata": {},
   "outputs": [],
   "source": [
    "tup=tup1+tup2"
   ]
  },
  {
   "cell_type": "code",
   "execution_count": 11,
   "id": "4c3e6999",
   "metadata": {},
   "outputs": [
    {
     "data": {
      "text/plain": [
       "('supplies',\n",
       " 'awesome',\n",
       " 'enemy',\n",
       " 'charge',\n",
       " 'attack',\n",
       " 'rush',\n",
       " 'impressive',\n",
       " 'fall back',\n",
       " 'ammo',\n",
       " 'cover')"
      ]
     },
     "execution_count": 11,
     "metadata": {},
     "output_type": "execute_result"
    }
   ],
   "source": [
    "tup"
   ]
  },
  {
   "cell_type": "markdown",
   "id": "8acbc5d9",
   "metadata": {},
   "source": [
    "**Assignment Task 3:** Set Creation\n",
    "Create a Python set containing the first 10 `even` numbers (2, 4, 6, ...). Write a program to `display` this set.\n"
   ]
  },
  {
   "cell_type": "code",
   "execution_count": 12,
   "id": "ddcd0c46",
   "metadata": {},
   "outputs": [],
   "source": [
    "set1={2,4,6,8,10,12,14,16,18,20}"
   ]
  },
  {
   "cell_type": "code",
   "execution_count": 13,
   "id": "8284ae02",
   "metadata": {},
   "outputs": [
    {
     "data": {
      "text/plain": [
       "{2, 4, 6, 8, 10, 12, 14, 16, 18, 20}"
      ]
     },
     "execution_count": 13,
     "metadata": {},
     "output_type": "execute_result"
    }
   ],
   "source": [
    "set1"
   ]
  },
  {
   "cell_type": "markdown",
   "id": "c1fe7848",
   "metadata": {},
   "source": [
    "**Assignment Task 4:** Set Operations\n",
    "Given two sets, write a Python program to find the `union, intersection, and difference` of these sets."
   ]
  },
  {
   "cell_type": "code",
   "execution_count": 14,
   "id": "bff790de",
   "metadata": {},
   "outputs": [],
   "source": [
    "set1={9,9,6,3,1,8,4,2,7}\n",
    "set2={7,8,9,3,0,7,5,3,9,5}"
   ]
  },
  {
   "cell_type": "code",
   "execution_count": 16,
   "id": "d02af56c",
   "metadata": {},
   "outputs": [
    {
     "data": {
      "text/plain": [
       "{3, 7, 8, 9}"
      ]
     },
     "execution_count": 16,
     "metadata": {},
     "output_type": "execute_result"
    }
   ],
   "source": [
    "set1.intersection(set2)  #intersection"
   ]
  },
  {
   "cell_type": "code",
   "execution_count": 18,
   "id": "bcd64b1a",
   "metadata": {},
   "outputs": [
    {
     "data": {
      "text/plain": [
       "{0, 1, 2, 3, 4, 5, 6, 7, 8, 9}"
      ]
     },
     "execution_count": 18,
     "metadata": {},
     "output_type": "execute_result"
    }
   ],
   "source": [
    "set1.union(set2)     #union"
   ]
  },
  {
   "cell_type": "code",
   "execution_count": 20,
   "id": "661d7843",
   "metadata": {},
   "outputs": [
    {
     "data": {
      "text/plain": [
       "{1, 2, 4, 6}"
      ]
     },
     "execution_count": 20,
     "metadata": {},
     "output_type": "execute_result"
    }
   ],
   "source": [
    "set1.difference(set2)    #difference"
   ]
  },
  {
   "cell_type": "markdown",
   "id": "7bfd0fb1",
   "metadata": {},
   "source": [
    "**Assignment Task 5:** Tuple and Set Conversion\n",
    "Write a Python program that takes a `tuple` of integers and converts it into a `set`. Then, find and print the `maximum and minimum` values from the set."
   ]
  },
  {
   "cell_type": "code",
   "execution_count": 21,
   "id": "2e8a3cac",
   "metadata": {},
   "outputs": [],
   "source": [
    "tup=(69,77,41,23,43,26,17,60,99,87)"
   ]
  },
  {
   "cell_type": "code",
   "execution_count": 22,
   "id": "8096ca92",
   "metadata": {},
   "outputs": [
    {
     "data": {
      "text/plain": [
       "tuple"
      ]
     },
     "execution_count": 22,
     "metadata": {},
     "output_type": "execute_result"
    }
   ],
   "source": [
    "type(tup)"
   ]
  },
  {
   "cell_type": "code",
   "execution_count": 23,
   "id": "81225abe",
   "metadata": {},
   "outputs": [],
   "source": [
    "set1=set(tup)"
   ]
  },
  {
   "cell_type": "code",
   "execution_count": 24,
   "id": "65c8ed2d",
   "metadata": {},
   "outputs": [
    {
     "data": {
      "text/plain": [
       "{17, 23, 26, 41, 43, 60, 69, 77, 87, 99}"
      ]
     },
     "execution_count": 24,
     "metadata": {},
     "output_type": "execute_result"
    }
   ],
   "source": [
    "set1"
   ]
  },
  {
   "cell_type": "code",
   "execution_count": 25,
   "id": "c12b022e",
   "metadata": {},
   "outputs": [
    {
     "data": {
      "text/plain": [
       "set"
      ]
     },
     "execution_count": 25,
     "metadata": {},
     "output_type": "execute_result"
    }
   ],
   "source": [
    "type(set1)"
   ]
  },
  {
   "cell_type": "code",
   "execution_count": 26,
   "id": "9b696127",
   "metadata": {},
   "outputs": [
    {
     "data": {
      "text/plain": [
       "99"
      ]
     },
     "execution_count": 26,
     "metadata": {},
     "output_type": "execute_result"
    }
   ],
   "source": [
    "max(set1)"
   ]
  },
  {
   "cell_type": "code",
   "execution_count": 27,
   "id": "41d8928f",
   "metadata": {},
   "outputs": [
    {
     "data": {
      "text/plain": [
       "17"
      ]
     },
     "execution_count": 27,
     "metadata": {},
     "output_type": "execute_result"
    }
   ],
   "source": [
    "min(set1)"
   ]
  },
  {
   "cell_type": "markdown",
   "id": "5b54e831",
   "metadata": {},
   "source": [
    "**Assignment Task 6:** Tuple Immutability\n",
    "Explain the concept of immutability in Python tuples with examples. Discuss why tuples are considered immutable data structures."
   ]
  },
  {
   "cell_type": "code",
   "execution_count": 28,
   "id": "c7ba8dcb",
   "metadata": {},
   "outputs": [],
   "source": [
    "tup=(78,98,45,67,55)"
   ]
  },
  {
   "cell_type": "markdown",
   "id": "32a49a70",
   "metadata": {},
   "source": [
    "-- tupleis immutable because it cannot be added and cannot be removed and cannot be modified"
   ]
  },
  {
   "cell_type": "code",
   "execution_count": 32,
   "id": "66f95374",
   "metadata": {},
   "outputs": [
    {
     "ename": "AttributeError",
     "evalue": "'tuple' object has no attribute 'add'",
     "output_type": "error",
     "traceback": [
      "\u001b[1;31m---------------------------------------------------------------------------\u001b[0m",
      "\u001b[1;31mAttributeError\u001b[0m                            Traceback (most recent call last)",
      "Cell \u001b[1;32mIn[32], line 1\u001b[0m\n\u001b[1;32m----> 1\u001b[0m tup\u001b[38;5;241m.\u001b[39madd(\u001b[38;5;241m6\u001b[39m)\n",
      "\u001b[1;31mAttributeError\u001b[0m: 'tuple' object has no attribute 'add'"
     ]
    }
   ],
   "source": [
    "tup.add(6)"
   ]
  },
  {
   "cell_type": "code",
   "execution_count": 33,
   "id": "5735f553",
   "metadata": {},
   "outputs": [
    {
     "ename": "AttributeError",
     "evalue": "'tuple' object has no attribute 'append'",
     "output_type": "error",
     "traceback": [
      "\u001b[1;31m---------------------------------------------------------------------------\u001b[0m",
      "\u001b[1;31mAttributeError\u001b[0m                            Traceback (most recent call last)",
      "Cell \u001b[1;32mIn[33], line 1\u001b[0m\n\u001b[1;32m----> 1\u001b[0m tup\u001b[38;5;241m.\u001b[39mappend(\u001b[38;5;241m55\u001b[39m)\n",
      "\u001b[1;31mAttributeError\u001b[0m: 'tuple' object has no attribute 'append'"
     ]
    }
   ],
   "source": [
    "tup.append(55)"
   ]
  },
  {
   "cell_type": "code",
   "execution_count": 34,
   "id": "d6922f0b",
   "metadata": {},
   "outputs": [
    {
     "ename": "AttributeError",
     "evalue": "'tuple' object has no attribute 'remove'",
     "output_type": "error",
     "traceback": [
      "\u001b[1;31m---------------------------------------------------------------------------\u001b[0m",
      "\u001b[1;31mAttributeError\u001b[0m                            Traceback (most recent call last)",
      "Cell \u001b[1;32mIn[34], line 1\u001b[0m\n\u001b[1;32m----> 1\u001b[0m tup\u001b[38;5;241m.\u001b[39mremove(\u001b[38;5;241m45\u001b[39m)\n",
      "\u001b[1;31mAttributeError\u001b[0m: 'tuple' object has no attribute 'remove'"
     ]
    }
   ],
   "source": [
    "tup.remove(45)"
   ]
  },
  {
   "cell_type": "markdown",
   "id": "87a50b60",
   "metadata": {},
   "source": [
    "**Assignment Task 7:** Set Operations and Methods\n",
    "Write a Python program that takes a set of numbers and performs the following operations:\n",
    "   - Add a new number to the set.\n",
    "   - Remove a number from the set.\n",
    "   - Check if a specific number is in the set.\n",
    "   - Find the size of the set.\n"
   ]
  },
  {
   "cell_type": "code",
   "execution_count": 35,
   "id": "e71c6b31",
   "metadata": {},
   "outputs": [],
   "source": [
    "set2={78,98,45,67,55}"
   ]
  },
  {
   "cell_type": "code",
   "execution_count": 36,
   "id": "abd40752",
   "metadata": {},
   "outputs": [],
   "source": [
    "set2.add(55)"
   ]
  },
  {
   "cell_type": "code",
   "execution_count": 37,
   "id": "2e2951ca",
   "metadata": {},
   "outputs": [
    {
     "data": {
      "text/plain": [
       "{45, 55, 67, 78, 98}"
      ]
     },
     "execution_count": 37,
     "metadata": {},
     "output_type": "execute_result"
    }
   ],
   "source": [
    "set2"
   ]
  },
  {
   "cell_type": "code",
   "execution_count": 38,
   "id": "c787bd29",
   "metadata": {},
   "outputs": [],
   "source": [
    "set2.remove(98)"
   ]
  },
  {
   "cell_type": "code",
   "execution_count": 39,
   "id": "46a08547",
   "metadata": {},
   "outputs": [
    {
     "data": {
      "text/plain": [
       "{45, 55, 67, 78}"
      ]
     },
     "execution_count": 39,
     "metadata": {},
     "output_type": "execute_result"
    }
   ],
   "source": [
    "set2"
   ]
  },
  {
   "cell_type": "code",
   "execution_count": 41,
   "id": "7d147a15",
   "metadata": {},
   "outputs": [
    {
     "data": {
      "text/plain": [
       "True"
      ]
     },
     "execution_count": 41,
     "metadata": {},
     "output_type": "execute_result"
    }
   ],
   "source": [
    "45 in set2"
   ]
  },
  {
   "cell_type": "code",
   "execution_count": 42,
   "id": "c5d9153f",
   "metadata": {},
   "outputs": [
    {
     "data": {
      "text/plain": [
       "4"
      ]
     },
     "execution_count": 42,
     "metadata": {},
     "output_type": "execute_result"
    }
   ],
   "source": [
    "len(set2)"
   ]
  },
  {
   "cell_type": "markdown",
   "id": "0029356a",
   "metadata": {},
   "source": [
    "**Assignment Task 8:** Tuple Slicing\n",
    "Given a tuple of 10 elements, write a Python program to print the elements from the `3rd to the 7th `position using slicing."
   ]
  },
  {
   "cell_type": "code",
   "execution_count": 43,
   "id": "a35d38d5",
   "metadata": {},
   "outputs": [],
   "source": [
    "tup = (4,8,6,2,9,3,5,0,1,7)"
   ]
  },
  {
   "cell_type": "code",
   "execution_count": 45,
   "id": "06d44e34",
   "metadata": {},
   "outputs": [
    {
     "data": {
      "text/plain": [
       "(6, 2, 9, 3, 5)"
      ]
     },
     "execution_count": 45,
     "metadata": {},
     "output_type": "execute_result"
    }
   ],
   "source": [
    "tup[2:7:1]"
   ]
  },
  {
   "cell_type": "markdown",
   "id": "0c9e4d7f",
   "metadata": {},
   "source": [
    "**Assignment Task 9:** Set Operations with Lists\n",
    "Create a Python list with duplicate elements and convert it into a set to remove duplicates. Then, write a program to count how many duplicates were removed."
   ]
  },
  {
   "cell_type": "code",
   "execution_count": 46,
   "id": "0af2b93c",
   "metadata": {},
   "outputs": [],
   "source": [
    "lis=[45,55,67,89,45,55,78,67,23,21,69]"
   ]
  },
  {
   "cell_type": "code",
   "execution_count": 47,
   "id": "100718cd",
   "metadata": {},
   "outputs": [],
   "source": [
    "set1=set(lis)"
   ]
  },
  {
   "cell_type": "code",
   "execution_count": 48,
   "id": "6d48bd0a",
   "metadata": {},
   "outputs": [
    {
     "data": {
      "text/plain": [
       "{21, 23, 45, 55, 67, 69, 78, 89}"
      ]
     },
     "execution_count": 48,
     "metadata": {},
     "output_type": "execute_result"
    }
   ],
   "source": [
    "set1"
   ]
  },
  {
   "cell_type": "code",
   "execution_count": 49,
   "id": "ea3dca95",
   "metadata": {},
   "outputs": [
    {
     "data": {
      "text/plain": [
       "8"
      ]
     },
     "execution_count": 49,
     "metadata": {},
     "output_type": "execute_result"
    }
   ],
   "source": [
    "len(set1)"
   ]
  },
  {
   "cell_type": "code",
   "execution_count": 50,
   "id": "2f25db12",
   "metadata": {},
   "outputs": [
    {
     "data": {
      "text/plain": [
       "3"
      ]
     },
     "execution_count": 50,
     "metadata": {},
     "output_type": "execute_result"
    }
   ],
   "source": [
    "len(lis)-len(set1)"
   ]
  },
  {
   "cell_type": "markdown",
   "id": "169b7cf5",
   "metadata": {},
   "source": [
    "**Assignment Task 10:** Tuple and Set Combinations\n",
    "Create a `tuple` containing the names of your friend's favorite movies and a `set` containing the names of your favorite movies. Write a Python program to find and display common elements (movies that feature your "
   ]
  },
  {
   "cell_type": "code",
   "execution_count": 54,
   "id": "4023f956",
   "metadata": {},
   "outputs": [],
   "source": [
    "friends_favourite = (\"bahubali\",\"RRR\",\"kgf\",\"pushpa\",\"thumbaad\")\n",
    "my_favourites = {\"fast and furious\",\"pushpa\",\"deadpool\",\"sye\",\"kgf\",\"RRR\"}"
   ]
  },
  {
   "cell_type": "code",
   "execution_count": 55,
   "id": "8ccae43d",
   "metadata": {},
   "outputs": [
    {
     "data": {
      "text/plain": [
       "set"
      ]
     },
     "execution_count": 55,
     "metadata": {},
     "output_type": "execute_result"
    }
   ],
   "source": [
    "type(my_favourites)"
   ]
  },
  {
   "cell_type": "code",
   "execution_count": 58,
   "id": "aec0fa43",
   "metadata": {},
   "outputs": [],
   "source": [
    "f=set(friends_favourite)"
   ]
  },
  {
   "cell_type": "code",
   "execution_count": 59,
   "id": "0d4f4b22",
   "metadata": {},
   "outputs": [
    {
     "data": {
      "text/plain": [
       "set"
      ]
     },
     "execution_count": 59,
     "metadata": {},
     "output_type": "execute_result"
    }
   ],
   "source": [
    "type(f)"
   ]
  },
  {
   "cell_type": "code",
   "execution_count": 60,
   "id": "da038608",
   "metadata": {},
   "outputs": [
    {
     "data": {
      "text/plain": [
       "{'RRR', 'kgf', 'pushpa'}"
      ]
     },
     "execution_count": 60,
     "metadata": {},
     "output_type": "execute_result"
    }
   ],
   "source": [
    "my_favourites.intersection(f)"
   ]
  },
  {
   "cell_type": "code",
   "execution_count": null,
   "id": "dd9eac1a",
   "metadata": {},
   "outputs": [],
   "source": []
  }
 ],
 "metadata": {
  "kernelspec": {
   "display_name": "Python 3 (ipykernel)",
   "language": "python",
   "name": "python3"
  },
  "language_info": {
   "codemirror_mode": {
    "name": "ipython",
    "version": 3
   },
   "file_extension": ".py",
   "mimetype": "text/x-python",
   "name": "python",
   "nbconvert_exporter": "python",
   "pygments_lexer": "ipython3",
   "version": "3.11.4"
  }
 },
 "nbformat": 4,
 "nbformat_minor": 5
}
