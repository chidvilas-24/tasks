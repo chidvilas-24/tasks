{
 "cells": [
  {
   "cell_type": "markdown",
   "id": "c9fb96f1",
   "metadata": {},
   "source": [
    "In this assignment, you will create a Python program to calculate the average grade of students in a function. However, the program should handle various exceptions that might occur during user input and grade calculation.\n",
    "**Requirements:**\n",
    "1. Your program should prompt the user to enter the total number of students.\n",
    "2. For each student, prompt the user to enter their name and three subject marks (out of 100).\n",
    "3. Handle the following exceptions\n",
    ":\n",
    "    a. ValueError: If the user enters a non-numeric value for the number of students or subject marks.\n",
    "    b. ZeroDivisionError: If any student's average marks cannot be calculated due to division by zero (e.g., no subject marks\n",
    "provided). c. NegativeValueError: If any student's marks are negative.\n",
    "4. Display appropriate error messages for each exception and prompt the user to try again.\n",
    "5. Use a try-except block for exception handling.\n",
    "6. Calculate the average marks for each student and display their names along with their average marks.\n",
    "7. Calculate and display the overall class average.\n",
    "8. Implement a loop so that the user can re-enter data if an exception occurs or continue calculating for another class.\n",
    "9. Include a graceful exit message when the user decides to stop.\n",
    "\n",
    "**Custom(User Defined) Exceptions:**\n",
    "Define two custom exception classes:\n",
    "1. `NegativeValueError: This exception should be raised when any of the subject marks are negative.\n",
    "2. `InvalidNumber Error: This exception should be raised when the user enters an invalid number for the total number of students (e.g., a negative number)."
   ]
  },
  {
   "cell_type": "code",
   "execution_count": null,
   "id": "978b3926",
   "metadata": {},
   "outputs": [],
   "source": []
  }
 ],
 "metadata": {
  "kernelspec": {
   "display_name": "Python 3 (ipykernel)",
   "language": "python",
   "name": "python3"
  },
  "language_info": {
   "codemirror_mode": {
    "name": "ipython",
    "version": 3
   },
   "file_extension": ".py",
   "mimetype": "text/x-python",
   "name": "python",
   "nbconvert_exporter": "python",
   "pygments_lexer": "ipython3",
   "version": "3.11.4"
  }
 },
 "nbformat": 4,
 "nbformat_minor": 5
}
