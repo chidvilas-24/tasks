{
 "cells": [
  {
   "cell_type": "markdown",
   "id": "fd99fb02",
   "metadata": {},
   "source": [
    "**Task 1**:\n",
    "1. Load the file 'about_python.txt'into your jupyter notebook.\n",
    "    a. Correct wrong statements about python fatures\n",
    "    b. How many charactaers present in the data\n",
    "    c. How many times 'Python' word is repeated.\n",
    "    d. after correcting all ..print complete valid features of the python.\n",
    "    \n",
    "**Task2**:\n",
    "\n",
    "2. Create a file 'File.txt'which expalains python file handling whatever you have learnt today(creating,reading,wring and appending...etc) in detail.That reaload the saved file(i.e File.txt) to jupyter notebook."
   ]
  },
  {
   "cell_type": "markdown",
   "id": "783485cd",
   "metadata": {},
   "source": [
    "**Task 1**:\n",
    "1. Load the file 'about_python.txt'into your jupyter notebook.\n",
    "    a. Correct wrong statements about python fatures\n",
    "    b. How many charactaers present in the data\n",
    "    c. How many times 'Python' word is repeated.\n",
    "    d. after correcting all ..print complete valid features of the python."
   ]
  },
  {
   "cell_type": "code",
   "execution_count": 60,
   "id": "a8230965",
   "metadata": {},
   "outputs": [],
   "source": [
    "file=open(\"about_python.txt\",'r')"
   ]
  },
  {
   "cell_type": "code",
   "execution_count": 61,
   "id": "4588e562",
   "metadata": {},
   "outputs": [],
   "source": [
    "string=file.read()"
   ]
  },
  {
   "cell_type": "code",
   "execution_count": 62,
   "id": "3f9ff345",
   "metadata": {},
   "outputs": [],
   "source": [
    "var1=string.replace(\"compiled\",\"interpreted\")\n",
    "var2=var1.replace(\"paid\",\"free\")\n",
    "var3=var2.replace(\"statically\",\"dynamically\")\n",
    "var4=var3.replace(\"double\",\"single and double\")\n",
    "var5=var4.replace(\"web development\",\"web development,software developmet and web scraping\")\n",
    "var6=var5.replace(\"Elon Musk\",\"Guido Van Rossum\")"
   ]
  },
  {
   "cell_type": "code",
   "execution_count": 63,
   "id": "e8eb1a43",
   "metadata": {},
   "outputs": [
    {
     "data": {
      "text/plain": [
       "404"
      ]
     },
     "execution_count": 63,
     "metadata": {},
     "output_type": "execute_result"
    }
   ],
   "source": [
    "len(string)"
   ]
  },
  {
   "cell_type": "code",
   "execution_count": 64,
   "id": "13ea9e63",
   "metadata": {},
   "outputs": [],
   "source": [
    "file.close()"
   ]
  },
  {
   "cell_type": "code",
   "execution_count": 65,
   "id": "6dd9c217",
   "metadata": {},
   "outputs": [
    {
     "data": {
      "text/plain": [
       "9"
      ]
     },
     "execution_count": 65,
     "metadata": {},
     "output_type": "execute_result"
    }
   ],
   "source": [
    "string.count(\"Python\")"
   ]
  },
  {
   "cell_type": "code",
   "execution_count": 66,
   "id": "279f4e42",
   "metadata": {},
   "outputs": [
    {
     "name": "stdout",
     "output_type": "stream",
     "text": [
      "Python supports object-oriented programming (OOP) concepts.\n",
      "Python is a compiled language.\n",
      "Python has a rich ecosystem of third-party libraries.\n",
      "Python is a paid programming language\n",
      "Python uses indentation for code block structuring.\n",
      "Python is statically Typed Language\n",
      "Python only supports double quotes for string literals.\n",
      "Python can only be used for web development.\n",
      "Python was created by Elon Musk.\n"
     ]
    }
   ],
   "source": [
    "print(string)"
   ]
  },
  {
   "cell_type": "markdown",
   "id": "aba61464",
   "metadata": {},
   "source": [
    "**Task2**:\n",
    "\n",
    "2. Create a file 'File.txt'which expalains python file handling whatever you have learnt today(creating,reading,wring and appending...etc) in detail.That reaload the saved file(i.e File.txt) to jupyter notebook."
   ]
  },
  {
   "cell_type": "code",
   "execution_count": 82,
   "id": "bd49fc14",
   "metadata": {},
   "outputs": [],
   "source": [
    "file1=open(\"file.txt\",\"x\")"
   ]
  },
  {
   "cell_type": "code",
   "execution_count": 83,
   "id": "fc4c1eef",
   "metadata": {},
   "outputs": [
    {
     "data": {
      "text/plain": [
       "421"
      ]
     },
     "execution_count": 83,
     "metadata": {},
     "output_type": "execute_result"
    }
   ],
   "source": [
    "file1.write(\"File handling\\nFile handling helps to Create, Write, Read, append a file\\nCreate:\\nIt creates a new file and if we given any existing file name then it shows error\\nWrite:\\nBy using this we can add text to the file. If the file name is new then it creates the file, if not it over writes the text in the old file\\nRead:\\nIt is used to read the contents present in the file\\nAppend:\\nit is used to add the data to the existing file\")"
   ]
  },
  {
   "cell_type": "code",
   "execution_count": 84,
   "id": "f3deb737",
   "metadata": {},
   "outputs": [],
   "source": [
    "file1.close()"
   ]
  },
  {
   "cell_type": "code",
   "execution_count": 85,
   "id": "59e959af",
   "metadata": {},
   "outputs": [],
   "source": [
    "file1=open(\"file.txt\",\"r\")"
   ]
  },
  {
   "cell_type": "code",
   "execution_count": 86,
   "id": "335a1ebc",
   "metadata": {},
   "outputs": [],
   "source": [
    "f=file1.read()"
   ]
  },
  {
   "cell_type": "code",
   "execution_count": 87,
   "id": "4d2e35b7",
   "metadata": {},
   "outputs": [
    {
     "name": "stdout",
     "output_type": "stream",
     "text": [
      "File handling\n",
      "File handling helps to Create, Write, Read, append a file\n",
      "Create:\n",
      "It creates a new file and if we given any existing file name then it shows error\n",
      "Write:\n",
      "By using this we can add text to the file. If the file name is new then it creates the file, if not it over writes the text in the old file\n",
      "Read:\n",
      "It is used to read the contents present in the file\n",
      "Append:\n",
      "it is used to add the data to the existing file\n"
     ]
    }
   ],
   "source": [
    "print(f)"
   ]
  },
  {
   "cell_type": "code",
   "execution_count": 88,
   "id": "d1738951",
   "metadata": {},
   "outputs": [],
   "source": [
    "file1.close()"
   ]
  },
  {
   "cell_type": "code",
   "execution_count": null,
   "id": "3c318781",
   "metadata": {},
   "outputs": [],
   "source": []
  }
 ],
 "metadata": {
  "kernelspec": {
   "display_name": "Python 3 (ipykernel)",
   "language": "python",
   "name": "python3"
  },
  "language_info": {
   "codemirror_mode": {
    "name": "ipython",
    "version": 3
   },
   "file_extension": ".py",
   "mimetype": "text/x-python",
   "name": "python",
   "nbconvert_exporter": "python",
   "pygments_lexer": "ipython3",
   "version": "3.11.4"
  }
 },
 "nbformat": 4,
 "nbformat_minor": 5
}
