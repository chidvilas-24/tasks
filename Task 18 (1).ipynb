{
 "cells": [
  {
   "cell_type": "markdown",
   "id": "c9fb96f1",
   "metadata": {},
   "source": [
    "In this assignment, you will create a Python program to calculate the average grade of students in a function. However, the program should handle various exceptions that might occur during user input and grade calculation.\n",
    "**Requirements:**\n",
    "1. Your program should prompt the user to enter the total number of students.\n",
    "2. For each student, prompt the user to enter their name and three subject marks (out of 100).\n",
    "3. Handle the following exceptions\n",
    ":\n",
    "    a. ValueError: If the user enters a non-numeric value for the number of students or subject marks.\n",
    "    b. ZeroDivisionError: If any student's average marks cannot be calculated due to division by zero (e.g., no subject marks\n",
    "provided). c. NegativeValueError: If any student's marks are negative.\n",
    "4. Display appropriate error messages for each exception and prompt the user to try again.\n",
    "5. Use a try-except block for exception handling.\n",
    "6. Calculate the average marks for each student and display their names along with their average marks.\n",
    "7. Calculate and display the overall class average.\n",
    "8. Implement a loop so that the user can re-enter data if an exception occurs or continue calculating for another class.\n",
    "9. Include a graceful exit message when the user decides to stop.\n",
    "\n",
    "**Custom(User Defined) Exceptions:**\n",
    "Define two custom exception classes:\n",
    "1. `NegativeValueError: This exception should be raised when any of the subject marks are negative.\n",
    "2. `InvalidNumber Error: This exception should be raised when the user enters an invalid number for the total number of students (e.g., a negative number)."
   ]
  },
  {
   "cell_type": "code",
   "execution_count": 6,
   "id": "194a3b03",
   "metadata": {},
   "outputs": [
    {
     "name": "stdout",
     "output_type": "stream",
     "text": [
      "enter the total number of students:  2\n",
      "enter the name of student 1 :  chidvilas\n",
      "enter the marks of subject 1 of chidvilas :  77\n",
      "enter the marks of subject 2 of chidvilas :  75\n",
      "enter the marks of subject 3 of chidvilas :  89\n",
      "avg1= 80.33333333333333\n",
      "enter the name of student 2 :  eeshanth\n",
      "enter the marks of subject 1 of eeshanth :  95\n",
      "enter the marks of subject 2 of eeshanth :  36\n",
      "enter the marks of subject 3 of eeshanth :  69\n",
      "avg2= 66.66666666666667\n",
      "average=  73.5\n"
     ]
    }
   ],
   "source": [
    "try:\n",
    "    def total_avg(total_students):\n",
    "        total_students=int(input(\"enter the total number of students:  \"))\n",
    "        students_avg=[]\n",
    "        if total_students>0:\n",
    "            for i in range (1,total_students+1):\n",
    "                name=input(f\"enter the name of student {i} :  \")\n",
    "                subject1=int(input(f\"enter the marks of subject 1 of {name} :  \"))\n",
    "                subject2=int(input(f\"enter the marks of subject 2 of {name} :  \"))                       \n",
    "                subject3=int(input(f\"enter the marks of subject 3 of {name} :  \"))\n",
    "                avg=(subject1+subject2+subject3)/3\n",
    "                students_avg.append(avg)\n",
    "                print(f\"avg{i}=\",avg)\n",
    "        all_students_avg=sum(students_avg)/total_students\n",
    "        print(\"average= \",all_students_avg)\n",
    "        \n",
    "    total_avg(total_students)       \n",
    "except ValueError :\n",
    "    print(\"please enter a numeric values\")\n",
    "except ZeroDivisionError:\n",
    "    print(\"please provide a valid details\")\n",
    "except NegativeValueError:\n",
    "    print(\"please enter a positive numbers only\")\n",
    "    "
   ]
  },
  {
   "cell_type": "code",
   "execution_count": null,
   "id": "10a60585",
   "metadata": {},
   "outputs": [],
   "source": []
  }
 ],
 "metadata": {
  "kernelspec": {
   "display_name": "Python 3 (ipykernel)",
   "language": "python",
   "name": "python3"
  },
  "language_info": {
   "codemirror_mode": {
    "name": "ipython",
    "version": 3
   },
   "file_extension": ".py",
   "mimetype": "text/x-python",
   "name": "python",
   "nbconvert_exporter": "python",
   "pygments_lexer": "ipython3",
   "version": "3.11.4"
  }
 },
 "nbformat": 4,
 "nbformat_minor": 5
}
